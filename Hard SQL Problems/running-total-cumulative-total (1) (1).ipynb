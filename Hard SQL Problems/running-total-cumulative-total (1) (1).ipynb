{
 "cells": [
  {
   "cell_type": "markdown",
   "id": "fcf9aec0-b95a-4569-a4a5-124ba4817724",
   "metadata": {},
   "source": [
    "## Running Total/Cumulative Total"
   ]
  },
  {
   "cell_type": "code",
   "execution_count": 6,
   "id": "ffa2e610-0b9a-4bd2-bd39-5d0b6b4d43a9",
   "metadata": {},
   "outputs": [
    {
     "name": "stdout",
     "output_type": "stream",
     "text": [
      "The sql extension is already loaded. To reload it, use:\n",
      "  %reload_ext sql\n",
      "Successfully connected to SQL database\n",
      "success\n"
     ]
    }
   ],
   "source": [
    "import pandas as pd\n",
    "import sqlite3\n",
    "import sql\n",
    "sql.style = 'plain'\n",
    "%load_ext sql\n",
    "connection=sqlite3.connect(\"question_bank.db\")\n",
    "print(\"Successfully connected to SQL database\")\n",
    "# Connect to SQLite\n",
    "%sql sqlite:///question_bank.db\n",
    "print(\"success\")"
   ]
  },
  {
   "cell_type": "code",
   "execution_count": 7,
   "id": "2331026f-b90e-44f3-baf7-410732e38795",
   "metadata": {},
   "outputs": [
    {
     "name": "stdout",
     "output_type": "stream",
     "text": [
      " * sqlite:///question_bank.db\n",
      "(sqlite3.OperationalError) table Payments already exists\n",
      "[SQL: -- Create the Payments table\n",
      "CREATE TABLE Payments (\n",
      "    employee_id INTEGER,\n",
      "    pay_date DATE,\n",
      "    amount INTEGER\n",
      ");]\n",
      "(Background on this error at: https://sqlalche.me/e/20/e3q8)\n"
     ]
    }
   ],
   "source": [
    "%%sql\n",
    "-- Create the Payments table\n",
    "CREATE TABLE Payments (\n",
    "    employee_id INTEGER,\n",
    "    pay_date DATE,\n",
    "    amount INTEGER\n",
    ");\n",
    "\n",
    "-- Insert sample data\n",
    "INSERT INTO Payments (employee_id, pay_date, amount) VALUES\n",
    "(1, '2024-01-01', 3000),\n",
    "(1, '2024-02-01', 3200),\n",
    "(1, '2024-03-01', 3100),\n",
    "(2, '2024-01-15', 4000),\n",
    "(2, '2024-02-15', 4100),\n",
    "(3, '2024-01-10', 3500);"
   ]
  },
  {
   "cell_type": "code",
   "execution_count": 8,
   "id": "7b501510-4db9-46a9-affe-f59eebad40c9",
   "metadata": {},
   "outputs": [
    {
     "name": "stdout",
     "output_type": "stream",
     "text": [
      " * sqlite:///question_bank.db\n",
      "Done.\n"
     ]
    },
    {
     "data": {
      "text/html": [
       "<table>\n",
       "    <thead>\n",
       "        <tr>\n",
       "            <th>employee_id</th>\n",
       "            <th>pay_date</th>\n",
       "            <th>amount</th>\n",
       "        </tr>\n",
       "    </thead>\n",
       "    <tbody>\n",
       "        <tr>\n",
       "            <td>1</td>\n",
       "            <td>2024-01-01</td>\n",
       "            <td>3000</td>\n",
       "        </tr>\n",
       "        <tr>\n",
       "            <td>1</td>\n",
       "            <td>2024-02-01</td>\n",
       "            <td>3200</td>\n",
       "        </tr>\n",
       "        <tr>\n",
       "            <td>1</td>\n",
       "            <td>2024-03-01</td>\n",
       "            <td>3100</td>\n",
       "        </tr>\n",
       "        <tr>\n",
       "            <td>2</td>\n",
       "            <td>2024-01-15</td>\n",
       "            <td>4000</td>\n",
       "        </tr>\n",
       "        <tr>\n",
       "            <td>2</td>\n",
       "            <td>2024-02-15</td>\n",
       "            <td>4100</td>\n",
       "        </tr>\n",
       "        <tr>\n",
       "            <td>3</td>\n",
       "            <td>2024-01-10</td>\n",
       "            <td>3500</td>\n",
       "        </tr>\n",
       "    </tbody>\n",
       "</table>"
      ],
      "text/plain": [
       "[(1, '2024-01-01', 3000),\n",
       " (1, '2024-02-01', 3200),\n",
       " (1, '2024-03-01', 3100),\n",
       " (2, '2024-01-15', 4000),\n",
       " (2, '2024-02-15', 4100),\n",
       " (3, '2024-01-10', 3500)]"
      ]
     },
     "execution_count": 8,
     "metadata": {},
     "output_type": "execute_result"
    }
   ],
   "source": [
    "%%sql\n",
    "SELECT * FROM Payments"
   ]
  },
  {
   "cell_type": "code",
   "execution_count": 9,
   "id": "a783ec1c-33ff-42e8-9dca-fe60914d2079",
   "metadata": {},
   "outputs": [
    {
     "name": "stdout",
     "output_type": "stream",
     "text": [
      " * sqlite:///question_bank.db\n",
      "Done.\n"
     ]
    },
    {
     "data": {
      "text/html": [
       "<table>\n",
       "    <thead>\n",
       "        <tr>\n",
       "            <th>employee_id</th>\n",
       "            <th>pay_date</th>\n",
       "            <th>amount</th>\n",
       "            <th>Running_Total</th>\n",
       "        </tr>\n",
       "    </thead>\n",
       "    <tbody>\n",
       "        <tr>\n",
       "            <td>1</td>\n",
       "            <td>2024-01-01</td>\n",
       "            <td>3000</td>\n",
       "            <td>3000</td>\n",
       "        </tr>\n",
       "        <tr>\n",
       "            <td>1</td>\n",
       "            <td>2024-02-01</td>\n",
       "            <td>3200</td>\n",
       "            <td>6200</td>\n",
       "        </tr>\n",
       "        <tr>\n",
       "            <td>1</td>\n",
       "            <td>2024-03-01</td>\n",
       "            <td>3100</td>\n",
       "            <td>9300</td>\n",
       "        </tr>\n",
       "        <tr>\n",
       "            <td>2</td>\n",
       "            <td>2024-01-15</td>\n",
       "            <td>4000</td>\n",
       "            <td>4000</td>\n",
       "        </tr>\n",
       "        <tr>\n",
       "            <td>2</td>\n",
       "            <td>2024-02-15</td>\n",
       "            <td>4100</td>\n",
       "            <td>8100</td>\n",
       "        </tr>\n",
       "        <tr>\n",
       "            <td>3</td>\n",
       "            <td>2024-01-10</td>\n",
       "            <td>3500</td>\n",
       "            <td>3500</td>\n",
       "        </tr>\n",
       "    </tbody>\n",
       "</table>"
      ],
      "text/plain": [
       "[(1, '2024-01-01', 3000, 3000),\n",
       " (1, '2024-02-01', 3200, 6200),\n",
       " (1, '2024-03-01', 3100, 9300),\n",
       " (2, '2024-01-15', 4000, 4000),\n",
       " (2, '2024-02-15', 4100, 8100),\n",
       " (3, '2024-01-10', 3500, 3500)]"
      ]
     },
     "execution_count": 9,
     "metadata": {},
     "output_type": "execute_result"
    }
   ],
   "source": [
    "%%sql\n",
    "\n",
    "-- calculate running total (cumulative sum) of salary payments for each employee over time \n",
    "\n",
    "-- For each employee - GROUP BY emp_id\n",
    "-- Cumulative sum = 30+32= 62+31=93+ and so on...\n",
    "-- We use PARTITION BY instead of GROUP BY - to not lose information\n",
    "\n",
    "SELECT employee_id,pay_date,amount,\n",
    "SUM (amount) OVER (\n",
    "    PARTITION BY employee_id                     -- Do this per employee (just like GROUP BY)\n",
    "    ORDER BY pay_date                            -- In chronological Order\n",
    "    ROWS BETWEEN UNBOUNDED PRECEDING             -- Start from the first row\n",
    "        AND CURRENT ROW) AS Running_Total        -- Up to the current row\n",
    "\n",
    "FROM Payments"
   ]
  },
  {
   "cell_type": "code",
   "execution_count": 10,
   "id": "cb99878a-7990-425b-bdf4-ce000ca5f3de",
   "metadata": {},
   "outputs": [
    {
     "name": "stdout",
     "output_type": "stream",
     "text": [
      " * sqlite:///question_bank.db\n",
      "Done.\n"
     ]
    },
    {
     "data": {
      "text/html": [
       "<table>\n",
       "    <thead>\n",
       "        <tr>\n",
       "            <th>employee_id</th>\n",
       "            <th>pay_date</th>\n",
       "            <th>amount</th>\n",
       "            <th>Running_Total</th>\n",
       "        </tr>\n",
       "    </thead>\n",
       "    <tbody>\n",
       "        <tr>\n",
       "            <td>1</td>\n",
       "            <td>2024-01-01</td>\n",
       "            <td>3000</td>\n",
       "            <td>3000</td>\n",
       "        </tr>\n",
       "        <tr>\n",
       "            <td>1</td>\n",
       "            <td>2024-02-01</td>\n",
       "            <td>3200</td>\n",
       "            <td>6200</td>\n",
       "        </tr>\n",
       "        <tr>\n",
       "            <td>1</td>\n",
       "            <td>2024-03-01</td>\n",
       "            <td>3100</td>\n",
       "            <td>9300</td>\n",
       "        </tr>\n",
       "        <tr>\n",
       "            <td>2</td>\n",
       "            <td>2024-01-15</td>\n",
       "            <td>4000</td>\n",
       "            <td>4000</td>\n",
       "        </tr>\n",
       "        <tr>\n",
       "            <td>2</td>\n",
       "            <td>2024-02-15</td>\n",
       "            <td>4100</td>\n",
       "            <td>8100</td>\n",
       "        </tr>\n",
       "        <tr>\n",
       "            <td>3</td>\n",
       "            <td>2024-01-10</td>\n",
       "            <td>3500</td>\n",
       "            <td>3500</td>\n",
       "        </tr>\n",
       "    </tbody>\n",
       "</table>"
      ],
      "text/plain": [
       "[(1, '2024-01-01', 3000, 3000),\n",
       " (1, '2024-02-01', 3200, 6200),\n",
       " (1, '2024-03-01', 3100, 9300),\n",
       " (2, '2024-01-15', 4000, 4000),\n",
       " (2, '2024-02-15', 4100, 8100),\n",
       " (3, '2024-01-10', 3500, 3500)]"
      ]
     },
     "execution_count": 10,
     "metadata": {},
     "output_type": "execute_result"
    }
   ],
   "source": [
    "%%sql\n",
    "WITH Pay AS (SELECT employee_id,pay_date,amount,\n",
    "            SUM (amount) OVER (\n",
    "                PARTITION BY employee_id                     \n",
    "                ORDER BY pay_date                            \n",
    "                ROWS BETWEEN UNBOUNDED PRECEDING             \n",
    "                    AND CURRENT ROW) AS Running_Total\n",
    "        FROM Payments\n",
    ") \n",
    "SELECT *\n",
    "FROM Pay"
   ]
  },
  {
   "cell_type": "code",
   "execution_count": null,
   "id": "b7f72f35-2419-4680-be60-37d9c9dd038e",
   "metadata": {},
   "outputs": [],
   "source": []
  }
 ],
 "metadata": {
  "kernelspec": {
   "display_name": "Python [conda env:base] *",
   "language": "python",
   "name": "conda-base-py"
  },
  "language_info": {
   "codemirror_mode": {
    "name": "ipython",
    "version": 3
   },
   "file_extension": ".py",
   "mimetype": "text/x-python",
   "name": "python",
   "nbconvert_exporter": "python",
   "pygments_lexer": "ipython3",
   "version": "3.12.7"
  }
 },
 "nbformat": 4,
 "nbformat_minor": 5
}
