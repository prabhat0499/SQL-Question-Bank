{
 "cells": [
  {
   "cell_type": "code",
   "execution_count": 1,
   "id": "6032b430-2cd7-4e41-b806-83b0c521fe56",
   "metadata": {},
   "outputs": [
    {
     "name": "stdout",
     "output_type": "stream",
     "text": [
      "Successfully connected to SQL database\n",
      "success\n"
     ]
    }
   ],
   "source": [
    "import pandas as pd\n",
    "import sqlite3\n",
    "import sql\n",
    "sql.style = 'plain'\n",
    "%load_ext sql\n",
    "connection=sqlite3.connect(\"question_bank.db\")\n",
    "print(\"Successfully connected to SQL database\")\n",
    "# Connect to SQLite\n",
    "%sql sqlite:///question_bank.db\n",
    "print(\"success\")"
   ]
  },
  {
   "cell_type": "code",
   "execution_count": 2,
   "id": "e02cc609-8a08-44c4-aeae-ae594c1e9d15",
   "metadata": {},
   "outputs": [
    {
     "name": "stdout",
     "output_type": "stream",
     "text": [
      " * sqlite:///question_bank.db\n",
      "Done.\n",
      "6 rows affected.\n"
     ]
    },
    {
     "data": {
      "text/plain": [
       "[]"
      ]
     },
     "execution_count": 2,
     "metadata": {},
     "output_type": "execute_result"
    }
   ],
   "source": [
    "%%sql\n",
    "-- Create Orders table\n",
    "CREATE TABLE Orders (\n",
    "    order_id INTEGER PRIMARY KEY,\n",
    "    customer_id INTEGER,\n",
    "    order_date DATE\n",
    ");\n",
    "\n",
    "-- Insert sample data\n",
    "INSERT INTO Orders (order_id, customer_id, order_date) VALUES\n",
    "(1, 101, '2024-01-01'),\n",
    "(2, 102, '2024-01-02'),\n",
    "(3, 101, '2024-01-05'),\n",
    "(4, 102, '2024-01-03'),\n",
    "(5, 103, '2024-01-04'),\n",
    "(6, 101, '2024-01-10');"
   ]
  },
  {
   "cell_type": "code",
   "execution_count": 3,
   "id": "bba0afd9-5c12-40de-a3f9-5dc987448663",
   "metadata": {},
   "outputs": [
    {
     "name": "stdout",
     "output_type": "stream",
     "text": [
      " * sqlite:///question_bank.db\n",
      "Done.\n"
     ]
    },
    {
     "data": {
      "text/html": [
       "<table>\n",
       "    <thead>\n",
       "        <tr>\n",
       "            <th>order_id</th>\n",
       "            <th>customer_id</th>\n",
       "            <th>order_date</th>\n",
       "        </tr>\n",
       "    </thead>\n",
       "    <tbody>\n",
       "        <tr>\n",
       "            <td>1</td>\n",
       "            <td>101</td>\n",
       "            <td>2024-01-01</td>\n",
       "        </tr>\n",
       "        <tr>\n",
       "            <td>2</td>\n",
       "            <td>102</td>\n",
       "            <td>2024-01-02</td>\n",
       "        </tr>\n",
       "        <tr>\n",
       "            <td>3</td>\n",
       "            <td>101</td>\n",
       "            <td>2024-01-05</td>\n",
       "        </tr>\n",
       "        <tr>\n",
       "            <td>4</td>\n",
       "            <td>102</td>\n",
       "            <td>2024-01-03</td>\n",
       "        </tr>\n",
       "        <tr>\n",
       "            <td>5</td>\n",
       "            <td>103</td>\n",
       "            <td>2024-01-04</td>\n",
       "        </tr>\n",
       "        <tr>\n",
       "            <td>6</td>\n",
       "            <td>101</td>\n",
       "            <td>2024-01-10</td>\n",
       "        </tr>\n",
       "    </tbody>\n",
       "</table>"
      ],
      "text/plain": [
       "[(1, 101, '2024-01-01'),\n",
       " (2, 102, '2024-01-02'),\n",
       " (3, 101, '2024-01-05'),\n",
       " (4, 102, '2024-01-03'),\n",
       " (5, 103, '2024-01-04'),\n",
       " (6, 101, '2024-01-10')]"
      ]
     },
     "execution_count": 3,
     "metadata": {},
     "output_type": "execute_result"
    }
   ],
   "source": [
    "%%sql\n",
    "SELECT * FROM ORDERS"
   ]
  },
  {
   "cell_type": "code",
   "execution_count": 4,
   "id": "1cd62302-7aa1-416f-9e3f-8ef3e79c321b",
   "metadata": {},
   "outputs": [
    {
     "name": "stdout",
     "output_type": "stream",
     "text": [
      " * sqlite:///question_bank.db\n",
      "Done.\n"
     ]
    },
    {
     "data": {
      "text/html": [
       "<table>\n",
       "    <thead>\n",
       "        <tr>\n",
       "            <th>customer_id</th>\n",
       "            <th>order_date</th>\n",
       "            <th>ranked_row</th>\n",
       "        </tr>\n",
       "    </thead>\n",
       "    <tbody>\n",
       "        <tr>\n",
       "            <td>101</td>\n",
       "            <td>2024-01-10</td>\n",
       "            <td>1</td>\n",
       "        </tr>\n",
       "        <tr>\n",
       "            <td>101</td>\n",
       "            <td>2024-01-05</td>\n",
       "            <td>2</td>\n",
       "        </tr>\n",
       "        <tr>\n",
       "            <td>101</td>\n",
       "            <td>2024-01-01</td>\n",
       "            <td>3</td>\n",
       "        </tr>\n",
       "        <tr>\n",
       "            <td>102</td>\n",
       "            <td>2024-01-03</td>\n",
       "            <td>1</td>\n",
       "        </tr>\n",
       "        <tr>\n",
       "            <td>102</td>\n",
       "            <td>2024-01-02</td>\n",
       "            <td>2</td>\n",
       "        </tr>\n",
       "        <tr>\n",
       "            <td>103</td>\n",
       "            <td>2024-01-04</td>\n",
       "            <td>1</td>\n",
       "        </tr>\n",
       "    </tbody>\n",
       "</table>"
      ],
      "text/plain": [
       "[(101, '2024-01-10', 1),\n",
       " (101, '2024-01-05', 2),\n",
       " (101, '2024-01-01', 3),\n",
       " (102, '2024-01-03', 1),\n",
       " (102, '2024-01-02', 2),\n",
       " (103, '2024-01-04', 1)]"
      ]
     },
     "execution_count": 4,
     "metadata": {},
     "output_type": "execute_result"
    }
   ],
   "source": [
    "%%sql\n",
    "\n",
    "-- most recent order (order_date) for each customer\n",
    "-- recency - ranking wrt date\n",
    "-- each customer - group by customer_id\n",
    "\n",
    "SELECT customer_id, order_date,\n",
    "                ROW_NUMBER () OVER (PARTITION BY customer_id ORDER BY order_date DESC) AS ranked_row\n",
    "            FROM ORDERS"
   ]
  },
  {
   "cell_type": "code",
   "execution_count": 5,
   "id": "443fde9e-4c1e-4828-8bc6-b11babb6d08b",
   "metadata": {},
   "outputs": [
    {
     "name": "stdout",
     "output_type": "stream",
     "text": [
      " * sqlite:///question_bank.db\n",
      "Done.\n"
     ]
    },
    {
     "data": {
      "text/html": [
       "<table>\n",
       "    <thead>\n",
       "        <tr>\n",
       "            <th>customer_id</th>\n",
       "            <th>order_date</th>\n",
       "            <th>ranked</th>\n",
       "        </tr>\n",
       "    </thead>\n",
       "    <tbody>\n",
       "        <tr>\n",
       "            <td>101</td>\n",
       "            <td>2024-01-10</td>\n",
       "            <td>1</td>\n",
       "        </tr>\n",
       "        <tr>\n",
       "            <td>102</td>\n",
       "            <td>2024-01-03</td>\n",
       "            <td>1</td>\n",
       "        </tr>\n",
       "        <tr>\n",
       "            <td>103</td>\n",
       "            <td>2024-01-04</td>\n",
       "            <td>1</td>\n",
       "        </tr>\n",
       "    </tbody>\n",
       "</table>"
      ],
      "text/plain": [
       "[(101, '2024-01-10', 1), (102, '2024-01-03', 1), (103, '2024-01-04', 1)]"
      ]
     },
     "execution_count": 5,
     "metadata": {},
     "output_type": "execute_result"
    }
   ],
   "source": [
    "%%sql\n",
    "\n",
    "WITH rc AS (SELECT customer_id, order_date,\n",
    "                ROW_NUMBER () OVER (PARTITION BY customer_id ORDER BY order_date DESC) AS ranked\n",
    "            FROM ORDERS\n",
    ")\n",
    "\n",
    "SELECT *\n",
    "FROM rc\n",
    "WHERE ranked = 1"
   ]
  },
  {
   "cell_type": "markdown",
   "id": "fcdca17d-f672-4868-89f9-930b48d3a9d6",
   "metadata": {},
   "source": [
    "* TL;DR – Use: ROW NUMBER () Instead of RANK () Since Rank gives same ranks to same dates\n",
    "* And ROW_NUMBER handles duplicates and gives unique ranks to each row, doesn't consider ties\n",
    "* ROW_NUMBER() → if you want only one \"latest\" order even if there are ties\n",
    "* RANK() → if you want to include all tied rows for the most recent date"
   ]
  },
  {
   "cell_type": "code",
   "execution_count": null,
   "id": "8bf342b5-5c58-46e6-a821-cc70a8677924",
   "metadata": {},
   "outputs": [],
   "source": []
  }
 ],
 "metadata": {
  "kernelspec": {
   "display_name": "Python [conda env:base] *",
   "language": "python",
   "name": "conda-base-py"
  },
  "language_info": {
   "codemirror_mode": {
    "name": "ipython",
    "version": 3
   },
   "file_extension": ".py",
   "mimetype": "text/x-python",
   "name": "python",
   "nbconvert_exporter": "python",
   "pygments_lexer": "ipython3",
   "version": "3.12.7"
  }
 },
 "nbformat": 4,
 "nbformat_minor": 5
}
