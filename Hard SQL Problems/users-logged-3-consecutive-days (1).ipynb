{
 "cells": [
  {
   "cell_type": "code",
   "execution_count": 1,
   "id": "aae0bfb5-5425-4a8a-8d6f-2f9880b09eb8",
   "metadata": {},
   "outputs": [],
   "source": [
    "import pandas as pd\n",
    "import sqlite3\n",
    "import sql"
   ]
  },
  {
   "cell_type": "code",
   "execution_count": 2,
   "id": "45afa759-7c39-480d-a7a9-2b2a901661fc",
   "metadata": {},
   "outputs": [],
   "source": [
    "sql.style = 'plain'"
   ]
  },
  {
   "cell_type": "code",
   "execution_count": 3,
   "id": "c4b680b7-d0dd-4b42-9533-062e6808c393",
   "metadata": {},
   "outputs": [
    {
     "name": "stdout",
     "output_type": "stream",
     "text": [
      "Successfully connected to SQL database\n",
      "success\n"
     ]
    }
   ],
   "source": [
    "%load_ext sql\n",
    "connection=sqlite3.connect(\"question_bank.db\")\n",
    "print(\"Successfully connected to SQL database\")\n",
    "# Connect to SQLite\n",
    "%sql sqlite:///question_bank.db\n",
    "print(\"success\")"
   ]
  },
  {
   "cell_type": "code",
   "execution_count": 4,
   "id": "35e12f51-ff29-4103-b3c1-b2994e9eb22f",
   "metadata": {},
   "outputs": [
    {
     "name": "stdout",
     "output_type": "stream",
     "text": [
      " * sqlite:///question_bank.db\n",
      "Done.\n",
      "9 rows affected.\n"
     ]
    },
    {
     "data": {
      "text/plain": [
       "[]"
      ]
     },
     "execution_count": 4,
     "metadata": {},
     "output_type": "execute_result"
    }
   ],
   "source": [
    "%%sql\n",
    "-- Create the Logins table\n",
    "CREATE TABLE Logins (\n",
    "    user_id INTEGER,\n",
    "    login_date DATE\n",
    ");\n",
    "\n",
    "-- Insert sample login data\n",
    "INSERT INTO Logins (user_id, login_date) VALUES\n",
    "(1, '2024-01-01'),\n",
    "(1, '2024-01-02'),\n",
    "(1, '2024-01-03'),\n",
    "(1, '2024-01-05'),\n",
    "(2, '2024-01-01'),\n",
    "(2, '2024-01-03'),\n",
    "(3, '2024-01-10'),\n",
    "(3, '2024-01-11'),\n",
    "(3, '2024-01-12');"
   ]
  },
  {
   "cell_type": "code",
   "execution_count": 5,
   "id": "e8640154-5e0a-4a1a-9fad-753fb57de338",
   "metadata": {},
   "outputs": [
    {
     "name": "stdout",
     "output_type": "stream",
     "text": [
      " * sqlite:///question_bank.db\n",
      "Done.\n"
     ]
    },
    {
     "data": {
      "text/html": [
       "<table>\n",
       "    <thead>\n",
       "        <tr>\n",
       "            <th>user_id</th>\n",
       "            <th>login_date</th>\n",
       "        </tr>\n",
       "    </thead>\n",
       "    <tbody>\n",
       "        <tr>\n",
       "            <td>1</td>\n",
       "            <td>2024-01-01</td>\n",
       "        </tr>\n",
       "        <tr>\n",
       "            <td>1</td>\n",
       "            <td>2024-01-02</td>\n",
       "        </tr>\n",
       "        <tr>\n",
       "            <td>1</td>\n",
       "            <td>2024-01-03</td>\n",
       "        </tr>\n",
       "        <tr>\n",
       "            <td>1</td>\n",
       "            <td>2024-01-05</td>\n",
       "        </tr>\n",
       "        <tr>\n",
       "            <td>2</td>\n",
       "            <td>2024-01-01</td>\n",
       "        </tr>\n",
       "        <tr>\n",
       "            <td>2</td>\n",
       "            <td>2024-01-03</td>\n",
       "        </tr>\n",
       "        <tr>\n",
       "            <td>3</td>\n",
       "            <td>2024-01-10</td>\n",
       "        </tr>\n",
       "        <tr>\n",
       "            <td>3</td>\n",
       "            <td>2024-01-11</td>\n",
       "        </tr>\n",
       "        <tr>\n",
       "            <td>3</td>\n",
       "            <td>2024-01-12</td>\n",
       "        </tr>\n",
       "    </tbody>\n",
       "</table>"
      ],
      "text/plain": [
       "[(1, '2024-01-01'),\n",
       " (1, '2024-01-02'),\n",
       " (1, '2024-01-03'),\n",
       " (1, '2024-01-05'),\n",
       " (2, '2024-01-01'),\n",
       " (2, '2024-01-03'),\n",
       " (3, '2024-01-10'),\n",
       " (3, '2024-01-11'),\n",
       " (3, '2024-01-12')]"
      ]
     },
     "execution_count": 5,
     "metadata": {},
     "output_type": "execute_result"
    }
   ],
   "source": [
    "%%sql\n",
    "SELECT * FROM  Logins"
   ]
  },
  {
   "cell_type": "code",
   "execution_count": 6,
   "id": "8d0b121c-cfe5-4d7b-a5ae-e5269251e8ce",
   "metadata": {},
   "outputs": [
    {
     "name": "stdout",
     "output_type": "stream",
     "text": [
      " * sqlite:///question_bank.db\n",
      "Done.\n"
     ]
    },
    {
     "data": {
      "text/html": [
       "<table>\n",
       "    <thead>\n",
       "        <tr>\n",
       "            <th>user_id</th>\n",
       "            <th>login_date</th>\n",
       "            <th>lag_date</th>\n",
       "            <th>prev_day</th>\n",
       "            <th>lead_date</th>\n",
       "            <th>next_date</th>\n",
       "        </tr>\n",
       "    </thead>\n",
       "    <tbody>\n",
       "        <tr>\n",
       "            <td>1</td>\n",
       "            <td>2024-01-01</td>\n",
       "            <td>None</td>\n",
       "            <td>2023-12-31</td>\n",
       "            <td>2024-01-02</td>\n",
       "            <td>2024-01-02</td>\n",
       "        </tr>\n",
       "        <tr>\n",
       "            <td>1</td>\n",
       "            <td>2024-01-02</td>\n",
       "            <td>2024-01-01</td>\n",
       "            <td>2024-01-01</td>\n",
       "            <td>2024-01-03</td>\n",
       "            <td>2024-01-03</td>\n",
       "        </tr>\n",
       "        <tr>\n",
       "            <td>1</td>\n",
       "            <td>2024-01-03</td>\n",
       "            <td>2024-01-02</td>\n",
       "            <td>2024-01-02</td>\n",
       "            <td>2024-01-05</td>\n",
       "            <td>2024-01-04</td>\n",
       "        </tr>\n",
       "        <tr>\n",
       "            <td>1</td>\n",
       "            <td>2024-01-05</td>\n",
       "            <td>2024-01-03</td>\n",
       "            <td>2024-01-04</td>\n",
       "            <td>None</td>\n",
       "            <td>2024-01-06</td>\n",
       "        </tr>\n",
       "        <tr>\n",
       "            <td>2</td>\n",
       "            <td>2024-01-01</td>\n",
       "            <td>None</td>\n",
       "            <td>2023-12-31</td>\n",
       "            <td>2024-01-03</td>\n",
       "            <td>2024-01-02</td>\n",
       "        </tr>\n",
       "        <tr>\n",
       "            <td>2</td>\n",
       "            <td>2024-01-03</td>\n",
       "            <td>2024-01-01</td>\n",
       "            <td>2024-01-02</td>\n",
       "            <td>None</td>\n",
       "            <td>2024-01-04</td>\n",
       "        </tr>\n",
       "        <tr>\n",
       "            <td>3</td>\n",
       "            <td>2024-01-10</td>\n",
       "            <td>None</td>\n",
       "            <td>2024-01-09</td>\n",
       "            <td>2024-01-11</td>\n",
       "            <td>2024-01-11</td>\n",
       "        </tr>\n",
       "        <tr>\n",
       "            <td>3</td>\n",
       "            <td>2024-01-11</td>\n",
       "            <td>2024-01-10</td>\n",
       "            <td>2024-01-10</td>\n",
       "            <td>2024-01-12</td>\n",
       "            <td>2024-01-12</td>\n",
       "        </tr>\n",
       "        <tr>\n",
       "            <td>3</td>\n",
       "            <td>2024-01-12</td>\n",
       "            <td>2024-01-11</td>\n",
       "            <td>2024-01-11</td>\n",
       "            <td>None</td>\n",
       "            <td>2024-01-13</td>\n",
       "        </tr>\n",
       "    </tbody>\n",
       "</table>"
      ],
      "text/plain": [
       "[(1, '2024-01-01', None, '2023-12-31', '2024-01-02', '2024-01-02'),\n",
       " (1, '2024-01-02', '2024-01-01', '2024-01-01', '2024-01-03', '2024-01-03'),\n",
       " (1, '2024-01-03', '2024-01-02', '2024-01-02', '2024-01-05', '2024-01-04'),\n",
       " (1, '2024-01-05', '2024-01-03', '2024-01-04', None, '2024-01-06'),\n",
       " (2, '2024-01-01', None, '2023-12-31', '2024-01-03', '2024-01-02'),\n",
       " (2, '2024-01-03', '2024-01-01', '2024-01-02', None, '2024-01-04'),\n",
       " (3, '2024-01-10', None, '2024-01-09', '2024-01-11', '2024-01-11'),\n",
       " (3, '2024-01-11', '2024-01-10', '2024-01-10', '2024-01-12', '2024-01-12'),\n",
       " (3, '2024-01-12', '2024-01-11', '2024-01-11', None, '2024-01-13')]"
      ]
     },
     "execution_count": 6,
     "metadata": {},
     "output_type": "execute_result"
    }
   ],
   "source": [
    "%%sql\n",
    " \n",
    "-- users who logged in on 3 consecutiive calendar days\n",
    "-- user 1 = Dates - 1,2,3 - Yes (3 in a row)\n",
    "-- user 2 = Dates - 1,3 - No\n",
    "-- user 3 = Dates - 10,11,12 - Yes\n",
    "-- CTEs and Window function LAG() or LEAD()\n",
    "\n",
    "-- Logic - Use LAG() and LEAD () Window Fuunctions to look at previous and next day login dates\n",
    "-- Compare - current login date\n",
    "-- LAG - Previous login date - 1 day before\n",
    "-- LEAD - Next login date - 1 day after\n",
    "-- If all 3 form a 3-day streak - consecutiveness --> Capture That\n",
    "\n",
    "----------------------------------Query---------------------------------------------------------------\n",
    "\n",
    "-- Identification of previous date of each user\n",
    "\n",
    "SELECT user_id,login_date,LAG(login_date) OVER(\n",
    "                                                PARTITION BY user_id -- groupby each user\n",
    "                                                ORDER BY login_date  -- chronological order - date-wise\n",
    "                                                ) AS lag_date\n",
    "                        , DATE(login_date, '-1 day') AS prev_day,\n",
    "                        LEAD(login_date) OVER(\n",
    "                                                PARTITION BY user_id\n",
    "                                                ORDER BY login_date\n",
    "                                                ) AS lead_date\n",
    "                        , DATE(login_date, '+1 day') As next_date\n",
    "FROM Logins\n",
    "\n",
    "-----------------------------------Note----------------------------------------------------------------\n",
    "-- '-1 day' = date modifier in SQL\n",
    "-- compare whether a user's previous login was exactly 1 day before, we do\n",
    "-- LAG(login_date) = DATE(login_date, '-1 day')\n",
    "-- Was the login 1 row before (via LAG) on exactly the previous calendar day?\n",
    "\n",
    "-- Date Modifiers in SQLite (for reference)\n",
    "-- Modifier\tEffect\n",
    "-- '-1 day'\t         Subtract 1 day\n",
    "-- '+2 days'\t     Add 2 days\n",
    "-- '-1 month'\t     Go back one month\n",
    "-- '+1 year'\t     Add one year\n",
    "-- 'start of month'\t Move to 1st of the month\n",
    "----------------------------------------------------------------------------"
   ]
  },
  {
   "cell_type": "code",
   "execution_count": 7,
   "id": "946c40ae-507f-4973-9d5b-31205bb05f4b",
   "metadata": {},
   "outputs": [
    {
     "name": "stdout",
     "output_type": "stream",
     "text": [
      " * sqlite:///question_bank.db\n",
      "Done.\n"
     ]
    },
    {
     "data": {
      "text/html": [
       "<table>\n",
       "    <thead>\n",
       "        <tr>\n",
       "            <th>user_id</th>\n",
       "            <th>login_date</th>\n",
       "            <th>lag_date</th>\n",
       "            <th>prev_day</th>\n",
       "            <th>lead_date</th>\n",
       "            <th>next_date</th>\n",
       "        </tr>\n",
       "    </thead>\n",
       "    <tbody>\n",
       "        <tr>\n",
       "            <td>1</td>\n",
       "            <td>2024-01-02</td>\n",
       "            <td>2024-01-01</td>\n",
       "            <td>2024-01-01</td>\n",
       "            <td>2024-01-03</td>\n",
       "            <td>2024-01-03</td>\n",
       "        </tr>\n",
       "        <tr>\n",
       "            <td>3</td>\n",
       "            <td>2024-01-11</td>\n",
       "            <td>2024-01-10</td>\n",
       "            <td>2024-01-10</td>\n",
       "            <td>2024-01-12</td>\n",
       "            <td>2024-01-12</td>\n",
       "        </tr>\n",
       "    </tbody>\n",
       "</table>"
      ],
      "text/plain": [
       "[(1, '2024-01-02', '2024-01-01', '2024-01-01', '2024-01-03', '2024-01-03'),\n",
       " (3, '2024-01-11', '2024-01-10', '2024-01-10', '2024-01-12', '2024-01-12')]"
      ]
     },
     "execution_count": 7,
     "metadata": {},
     "output_type": "execute_result"
    }
   ],
   "source": [
    "%%sql\n",
    "\n",
    "WITH login_cte AS (SELECT user_id,login_date,LAG(login_date) OVER(\n",
    "                                                PARTITION BY user_id -- groupby each user\n",
    "                                                ORDER BY login_date  -- chronological order - date-wise\n",
    "                                                ) AS lag_date\n",
    "                        , DATE(login_date, '-1 day') AS prev_day,\n",
    "                        LEAD(login_date) OVER(\n",
    "                                                PARTITION BY user_id\n",
    "                                                ORDER BY login_date\n",
    "                                                ) AS lead_date\n",
    "                        , DATE(login_date, '+1 day') As next_date\n",
    "                FROM Logins\n",
    ") \n",
    "\n",
    "SELECT *\n",
    "FROM login_cte\n",
    "WHERE\n",
    "    lag_date=prev_day\n",
    "    AND lead_date = next_date;"
   ]
  }
 ],
 "metadata": {
  "kernelspec": {
   "display_name": "Python [conda env:base] *",
   "language": "python",
   "name": "conda-base-py"
  },
  "language_info": {
   "codemirror_mode": {
    "name": "ipython",
    "version": 3
   },
   "file_extension": ".py",
   "mimetype": "text/x-python",
   "name": "python",
   "nbconvert_exporter": "python",
   "pygments_lexer": "ipython3",
   "version": "3.12.7"
  }
 },
 "nbformat": 4,
 "nbformat_minor": 5
}
