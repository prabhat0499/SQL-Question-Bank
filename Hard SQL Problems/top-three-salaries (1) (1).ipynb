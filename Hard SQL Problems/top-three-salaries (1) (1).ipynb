{
 "cells": [
  {
   "cell_type": "markdown",
   "id": "512c90a6-3edf-4d57-95ef-c82ce0e34cb3",
   "metadata": {},
   "source": [
    "## Top Three Salaries per Department"
   ]
  },
  {
   "cell_type": "code",
   "execution_count": 1,
   "id": "867bb481-313e-49b7-bc73-adecf3bc06bb",
   "metadata": {},
   "outputs": [
    {
     "name": "stdout",
     "output_type": "stream",
     "text": [
      "Successfully connected to SQL database\n",
      "success\n"
     ]
    }
   ],
   "source": [
    "import pandas as pd\n",
    "import sqlite3\n",
    "import sql\n",
    "sql.style = 'plain'\n",
    "%load_ext sql\n",
    "connection=sqlite3.connect(\"question_bank.db\")\n",
    "print(\"Successfully connected to SQL database\")\n",
    "# Connect to SQLite\n",
    "%sql sqlite:///question_bank.db\n",
    "print(\"success\")"
   ]
  },
  {
   "cell_type": "code",
   "execution_count": 2,
   "id": "0119c851-0de3-43e2-9323-8ba94498ac8c",
   "metadata": {},
   "outputs": [
    {
     "name": "stdout",
     "output_type": "stream",
     "text": [
      " * sqlite:///question_bank.db\n",
      "Done.\n",
      "Done.\n",
      "7 rows affected.\n"
     ]
    },
    {
     "data": {
      "text/plain": [
       "[]"
      ]
     },
     "execution_count": 2,
     "metadata": {},
     "output_type": "execute_result"
    }
   ],
   "source": [
    "%%sql\n",
    "\n",
    "DROP TABLE IF EXISTS Employee;\n",
    "\n",
    "CREATE TABLE Employee (\n",
    "    id INT PRIMARY KEY,\n",
    "    name VARCHAR(50),\n",
    "    salary INT,\n",
    "    departmentId INT,\n",
    "    FOREIGN KEY (departmentId) REFERENCES Department(id)\n",
    ");\n",
    "\n",
    "INSERT INTO Employee (id, name, salary, departmentId) VALUES\n",
    "(1, 'Joe', 85000, 1),\n",
    "(2, 'Henry', 80000, 2),\n",
    "(3, 'Sam', 60000, 2),\n",
    "(4, 'Max', 90000, 1),\n",
    "(5, 'Janet', 69000, 1),\n",
    "(6, 'Randy', 85000, 1),\n",
    "(7, 'Will', 70000, 1);"
   ]
  },
  {
   "cell_type": "code",
   "execution_count": 3,
   "id": "feac5ce5-465e-47b5-9731-d9c34281a0e2",
   "metadata": {},
   "outputs": [
    {
     "name": "stdout",
     "output_type": "stream",
     "text": [
      " * sqlite:///question_bank.db\n",
      "Done.\n",
      "2 rows affected.\n"
     ]
    },
    {
     "data": {
      "text/plain": [
       "[]"
      ]
     },
     "execution_count": 3,
     "metadata": {},
     "output_type": "execute_result"
    }
   ],
   "source": [
    "%%sql\n",
    "\n",
    "CREATE TABLE Department (\n",
    "    id INT PRIMARY KEY,\n",
    "    name VARCHAR(50)\n",
    ");\n",
    "\n",
    "INSERT INTO Department (id, name) VALUES\n",
    "(1, 'IT'),\n",
    "(2, 'Sales');"
   ]
  },
  {
   "cell_type": "code",
   "execution_count": 4,
   "id": "773c2edc-aabe-4b29-990a-4e4dfbadbec4",
   "metadata": {},
   "outputs": [
    {
     "name": "stdout",
     "output_type": "stream",
     "text": [
      " * sqlite:///question_bank.db\n",
      "Done.\n"
     ]
    },
    {
     "data": {
      "text/html": [
       "<table>\n",
       "    <thead>\n",
       "        <tr>\n",
       "            <th>id</th>\n",
       "            <th>name</th>\n",
       "            <th>salary</th>\n",
       "            <th>departmentId</th>\n",
       "        </tr>\n",
       "    </thead>\n",
       "    <tbody>\n",
       "        <tr>\n",
       "            <td>1</td>\n",
       "            <td>Joe</td>\n",
       "            <td>85000</td>\n",
       "            <td>1</td>\n",
       "        </tr>\n",
       "        <tr>\n",
       "            <td>2</td>\n",
       "            <td>Henry</td>\n",
       "            <td>80000</td>\n",
       "            <td>2</td>\n",
       "        </tr>\n",
       "        <tr>\n",
       "            <td>3</td>\n",
       "            <td>Sam</td>\n",
       "            <td>60000</td>\n",
       "            <td>2</td>\n",
       "        </tr>\n",
       "        <tr>\n",
       "            <td>4</td>\n",
       "            <td>Max</td>\n",
       "            <td>90000</td>\n",
       "            <td>1</td>\n",
       "        </tr>\n",
       "        <tr>\n",
       "            <td>5</td>\n",
       "            <td>Janet</td>\n",
       "            <td>69000</td>\n",
       "            <td>1</td>\n",
       "        </tr>\n",
       "        <tr>\n",
       "            <td>6</td>\n",
       "            <td>Randy</td>\n",
       "            <td>85000</td>\n",
       "            <td>1</td>\n",
       "        </tr>\n",
       "        <tr>\n",
       "            <td>7</td>\n",
       "            <td>Will</td>\n",
       "            <td>70000</td>\n",
       "            <td>1</td>\n",
       "        </tr>\n",
       "    </tbody>\n",
       "</table>"
      ],
      "text/plain": [
       "[(1, 'Joe', 85000, 1),\n",
       " (2, 'Henry', 80000, 2),\n",
       " (3, 'Sam', 60000, 2),\n",
       " (4, 'Max', 90000, 1),\n",
       " (5, 'Janet', 69000, 1),\n",
       " (6, 'Randy', 85000, 1),\n",
       " (7, 'Will', 70000, 1)]"
      ]
     },
     "execution_count": 4,
     "metadata": {},
     "output_type": "execute_result"
    }
   ],
   "source": [
    "%%sql\n",
    "SELECT * FROM Employee"
   ]
  },
  {
   "cell_type": "code",
   "execution_count": 5,
   "id": "b85eb81e-e77a-4c94-97d8-f17bcb06da67",
   "metadata": {},
   "outputs": [
    {
     "name": "stdout",
     "output_type": "stream",
     "text": [
      " * sqlite:///question_bank.db\n",
      "Done.\n"
     ]
    },
    {
     "data": {
      "text/html": [
       "<table>\n",
       "    <thead>\n",
       "        <tr>\n",
       "            <th>id</th>\n",
       "            <th>name</th>\n",
       "        </tr>\n",
       "    </thead>\n",
       "    <tbody>\n",
       "        <tr>\n",
       "            <td>1</td>\n",
       "            <td>IT</td>\n",
       "        </tr>\n",
       "        <tr>\n",
       "            <td>2</td>\n",
       "            <td>Sales</td>\n",
       "        </tr>\n",
       "    </tbody>\n",
       "</table>"
      ],
      "text/plain": [
       "[(1, 'IT'), (2, 'Sales')]"
      ]
     },
     "execution_count": 5,
     "metadata": {},
     "output_type": "execute_result"
    }
   ],
   "source": [
    "%%sql\n",
    "SELECT * FROM Department"
   ]
  },
  {
   "cell_type": "code",
   "execution_count": 6,
   "id": "d9634a86-141b-4d1c-9cec-c0ab18093406",
   "metadata": {},
   "outputs": [
    {
     "name": "stdout",
     "output_type": "stream",
     "text": [
      " * sqlite:///question_bank.db\n",
      "Done.\n"
     ]
    },
    {
     "data": {
      "text/html": [
       "<table>\n",
       "    <thead>\n",
       "        <tr>\n",
       "            <th>name</th>\n",
       "            <th>name_1</th>\n",
       "            <th>salary</th>\n",
       "            <th>rk</th>\n",
       "        </tr>\n",
       "    </thead>\n",
       "    <tbody>\n",
       "        <tr>\n",
       "            <td>IT</td>\n",
       "            <td>Max</td>\n",
       "            <td>90000</td>\n",
       "            <td>1</td>\n",
       "        </tr>\n",
       "        <tr>\n",
       "            <td>IT</td>\n",
       "            <td>Joe</td>\n",
       "            <td>85000</td>\n",
       "            <td>2</td>\n",
       "        </tr>\n",
       "        <tr>\n",
       "            <td>IT</td>\n",
       "            <td>Randy</td>\n",
       "            <td>85000</td>\n",
       "            <td>2</td>\n",
       "        </tr>\n",
       "        <tr>\n",
       "            <td>IT</td>\n",
       "            <td>Will</td>\n",
       "            <td>70000</td>\n",
       "            <td>3</td>\n",
       "        </tr>\n",
       "        <tr>\n",
       "            <td>IT</td>\n",
       "            <td>Janet</td>\n",
       "            <td>69000</td>\n",
       "            <td>4</td>\n",
       "        </tr>\n",
       "        <tr>\n",
       "            <td>Sales</td>\n",
       "            <td>Henry</td>\n",
       "            <td>80000</td>\n",
       "            <td>1</td>\n",
       "        </tr>\n",
       "        <tr>\n",
       "            <td>Sales</td>\n",
       "            <td>Sam</td>\n",
       "            <td>60000</td>\n",
       "            <td>2</td>\n",
       "        </tr>\n",
       "    </tbody>\n",
       "</table>"
      ],
      "text/plain": [
       "[('IT', 'Max', 90000, 1),\n",
       " ('IT', 'Joe', 85000, 2),\n",
       " ('IT', 'Randy', 85000, 2),\n",
       " ('IT', 'Will', 70000, 3),\n",
       " ('IT', 'Janet', 69000, 4),\n",
       " ('Sales', 'Henry', 80000, 1),\n",
       " ('Sales', 'Sam', 60000, 2)]"
      ]
     },
     "execution_count": 6,
     "metadata": {},
     "output_type": "execute_result"
    }
   ],
   "source": [
    "%%sql\n",
    "\n",
    "-- We need to find - top 3 salaries of each departmemt\n",
    "-- There are two dept - IT and Sales\n",
    "-- We will ll use PARTITION BY dept_name\n",
    "-- DENSE_RANK -- multiple people with same salary can get same rank \n",
    "-- you get exclusive 2nd, 3rd salary\n",
    "\n",
    "\n",
    "SELECT d.name,e.name,e.salary, \n",
    "    DENSE_RANK () OVER (PARTITION BY d.name ORDER BY e.salary DESC) AS rk\n",
    "FROM Employee e\n",
    "JOIN Department d ON e.departmentId=d.id\n",
    "\n",
    "\n",
    "-- This becomes a inner sub query"
   ]
  },
  {
   "cell_type": "code",
   "execution_count": 7,
   "id": "26f8a3e4-c81b-40b1-9975-ffbfd309cf73",
   "metadata": {},
   "outputs": [
    {
     "name": "stdout",
     "output_type": "stream",
     "text": [
      " * sqlite:///question_bank.db\n",
      "Done.\n"
     ]
    },
    {
     "data": {
      "text/html": [
       "<table>\n",
       "    <thead>\n",
       "        <tr>\n",
       "            <th>name</th>\n",
       "            <th>name:1</th>\n",
       "            <th>salary</th>\n",
       "            <th>rk</th>\n",
       "        </tr>\n",
       "    </thead>\n",
       "    <tbody>\n",
       "        <tr>\n",
       "            <td>IT</td>\n",
       "            <td>Max</td>\n",
       "            <td>90000</td>\n",
       "            <td>1</td>\n",
       "        </tr>\n",
       "        <tr>\n",
       "            <td>IT</td>\n",
       "            <td>Joe</td>\n",
       "            <td>85000</td>\n",
       "            <td>2</td>\n",
       "        </tr>\n",
       "        <tr>\n",
       "            <td>IT</td>\n",
       "            <td>Randy</td>\n",
       "            <td>85000</td>\n",
       "            <td>2</td>\n",
       "        </tr>\n",
       "        <tr>\n",
       "            <td>IT</td>\n",
       "            <td>Will</td>\n",
       "            <td>70000</td>\n",
       "            <td>3</td>\n",
       "        </tr>\n",
       "        <tr>\n",
       "            <td>Sales</td>\n",
       "            <td>Henry</td>\n",
       "            <td>80000</td>\n",
       "            <td>1</td>\n",
       "        </tr>\n",
       "        <tr>\n",
       "            <td>Sales</td>\n",
       "            <td>Sam</td>\n",
       "            <td>60000</td>\n",
       "            <td>2</td>\n",
       "        </tr>\n",
       "    </tbody>\n",
       "</table>"
      ],
      "text/plain": [
       "[('IT', 'Max', 90000, 1),\n",
       " ('IT', 'Joe', 85000, 2),\n",
       " ('IT', 'Randy', 85000, 2),\n",
       " ('IT', 'Will', 70000, 3),\n",
       " ('Sales', 'Henry', 80000, 1),\n",
       " ('Sales', 'Sam', 60000, 2)]"
      ]
     },
     "execution_count": 7,
     "metadata": {},
     "output_type": "execute_result"
    }
   ],
   "source": [
    "%%sql\n",
    "\n",
    "SELECT *\n",
    "FROM (\n",
    "    SELECT d.name,e.name,e.salary, \n",
    "        DENSE_RANK () OVER (PARTITION BY d.name ORDER BY e.salary DESC) AS rk\n",
    "    FROM Employee e\n",
    "    JOIN Department d ON e.departmentId=d.id\n",
    ")\n",
    "WHERE rk<=3"
   ]
  },
  {
   "cell_type": "markdown",
   "id": "b886534e-f949-4d35-a94e-284973b94189",
   "metadata": {},
   "source": [
    "* Top Three Salaries per Department"
   ]
  },
  {
   "cell_type": "code",
   "execution_count": 8,
   "id": "b1f95597-5d0f-492c-a6fe-9ea2a40e78be",
   "metadata": {},
   "outputs": [
    {
     "name": "stdout",
     "output_type": "stream",
     "text": [
      " * sqlite:///question_bank.db\n",
      "Done.\n"
     ]
    },
    {
     "data": {
      "text/html": [
       "<table>\n",
       "    <thead>\n",
       "        <tr>\n",
       "            <th>name</th>\n",
       "            <th>name:1</th>\n",
       "            <th>salary</th>\n",
       "            <th>rk</th>\n",
       "        </tr>\n",
       "    </thead>\n",
       "    <tbody>\n",
       "        <tr>\n",
       "            <td>IT</td>\n",
       "            <td>Max</td>\n",
       "            <td>90000</td>\n",
       "            <td>1</td>\n",
       "        </tr>\n",
       "        <tr>\n",
       "            <td>Sales</td>\n",
       "            <td>Henry</td>\n",
       "            <td>80000</td>\n",
       "            <td>1</td>\n",
       "        </tr>\n",
       "    </tbody>\n",
       "</table>"
      ],
      "text/plain": [
       "[('IT', 'Max', 90000, 1), ('Sales', 'Henry', 80000, 1)]"
      ]
     },
     "execution_count": 8,
     "metadata": {},
     "output_type": "execute_result"
    }
   ],
   "source": [
    "%%sql\n",
    "\n",
    "SELECT *\n",
    "FROM (\n",
    "    SELECT d.name,e.name,e.salary, \n",
    "        DENSE_RANK () OVER (PARTITION BY d.name ORDER BY e.salary DESC) AS rk\n",
    "    FROM Employee e\n",
    "    JOIN Department d ON e.departmentId=d.id\n",
    ")\n",
    "WHERE rk=1"
   ]
  }
 ],
 "metadata": {
  "kernelspec": {
   "display_name": "Python [conda env:base] *",
   "language": "python",
   "name": "conda-base-py"
  },
  "language_info": {
   "codemirror_mode": {
    "name": "ipython",
    "version": 3
   },
   "file_extension": ".py",
   "mimetype": "text/x-python",
   "name": "python",
   "nbconvert_exporter": "python",
   "pygments_lexer": "ipython3",
   "version": "3.12.7"
  }
 },
 "nbformat": 4,
 "nbformat_minor": 5
}
