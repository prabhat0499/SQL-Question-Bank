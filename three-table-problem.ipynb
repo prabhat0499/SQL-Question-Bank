{
 "cells": [
  {
   "cell_type": "code",
   "execution_count": 1,
   "id": "fc242250-f647-4ca6-bd67-a61d20829fdb",
   "metadata": {},
   "outputs": [
    {
     "name": "stdout",
     "output_type": "stream",
     "text": [
      "Successfully connected to SQL database\n",
      "success\n"
     ]
    }
   ],
   "source": [
    "import pandas as pd\n",
    "import sqlite3\n",
    "import sql\n",
    "sql.style = 'plain'\n",
    "%load_ext sql\n",
    "connection=sqlite3.connect(\"question_bank.db\")\n",
    "print(\"Successfully connected to SQL database\")\n",
    "# Connect to SQLite\n",
    "%sql sqlite:///question_bank.db\n",
    "print(\"success\")"
   ]
  },
  {
   "cell_type": "code",
   "execution_count": 2,
   "id": "870972ad-bcb6-4e87-98bb-bdeb15a19a1d",
   "metadata": {},
   "outputs": [
    {
     "name": "stdout",
     "output_type": "stream",
     "text": [
      " * sqlite:///question_bank.db\n",
      "Done.\n",
      "4 rows affected.\n"
     ]
    },
    {
     "data": {
      "text/plain": [
       "[]"
      ]
     },
     "execution_count": 2,
     "metadata": {},
     "output_type": "execute_result"
    }
   ],
   "source": [
    "%%sql\n",
    "-- Create Students Table\n",
    "CREATE TABLE Students (\n",
    "    student_id INTEGER PRIMARY KEY,\n",
    "    name TEXT,\n",
    "    age INTEGER\n",
    ");\n",
    "\n",
    "\n",
    "\n",
    "-- Insert into Students\n",
    "INSERT INTO Students (student_id, name, age) VALUES\n",
    "(1, 'Alice', 20),\n",
    "(2, 'Bob', 22),\n",
    "(3, 'Charlie', 21),\n",
    "(4, 'Diana', 20);"
   ]
  },
  {
   "cell_type": "code",
   "execution_count": 3,
   "id": "d928e025-5353-4236-8bc3-b4050a1832e7",
   "metadata": {},
   "outputs": [
    {
     "name": "stdout",
     "output_type": "stream",
     "text": [
      " * sqlite:///question_bank.db\n",
      "Done.\n",
      "3 rows affected.\n"
     ]
    },
    {
     "data": {
      "text/plain": [
       "[]"
      ]
     },
     "execution_count": 3,
     "metadata": {},
     "output_type": "execute_result"
    }
   ],
   "source": [
    "%%sql\n",
    "-- Create Courses Table\n",
    "CREATE TABLE Courses (\n",
    "    course_id INTEGER PRIMARY KEY,\n",
    "    course_name TEXT\n",
    ");\n",
    "\n",
    "-- Insert into Courses\n",
    "INSERT INTO Courses (course_id, course_name) VALUES\n",
    "(101, 'SQL Basics'),\n",
    "(102, 'Python for Data'),\n",
    "(103, 'Data Structures');"
   ]
  },
  {
   "cell_type": "code",
   "execution_count": 4,
   "id": "56d06e12-fdd3-4d11-8e5f-d2ad3fa1e75e",
   "metadata": {},
   "outputs": [
    {
     "name": "stdout",
     "output_type": "stream",
     "text": [
      " * sqlite:///question_bank.db\n",
      "Done.\n",
      "5 rows affected.\n"
     ]
    },
    {
     "data": {
      "text/plain": [
       "[]"
      ]
     },
     "execution_count": 4,
     "metadata": {},
     "output_type": "execute_result"
    }
   ],
   "source": [
    "%%sql\n",
    "-- Create Enrollments Table\n",
    "CREATE TABLE Enrollments (\n",
    "    enrollment_id INTEGER PRIMARY KEY,\n",
    "    student_id INTEGER,\n",
    "    course_id INTEGER,\n",
    "    enrollment_date DATE,\n",
    "    FOREIGN KEY (student_id) REFERENCES Students(student_id),\n",
    "    FOREIGN KEY (course_id) REFERENCES Courses(course_id)\n",
    ");\n",
    "\n",
    "-- Insert into Enrollments\n",
    "INSERT INTO Enrollments (enrollment_id, student_id, course_id, enrollment_date) VALUES\n",
    "(1, 1, 101, '2024-01-10'),\n",
    "(2, 1, 102, '2024-02-15'),\n",
    "(3, 2, 101, '2024-01-12'),\n",
    "(4, 3, 103, '2024-03-20'),\n",
    "(5, 4, 101, '2024-04-01');"
   ]
  },
  {
   "cell_type": "code",
   "execution_count": 5,
   "id": "4803a3d7-d91b-44d5-aaea-921fb2f88cf3",
   "metadata": {},
   "outputs": [
    {
     "name": "stdout",
     "output_type": "stream",
     "text": [
      " * sqlite:///question_bank.db\n",
      "Done.\n"
     ]
    },
    {
     "data": {
      "text/html": [
       "<table>\n",
       "    <thead>\n",
       "        <tr>\n",
       "            <th>student_id</th>\n",
       "            <th>name</th>\n",
       "            <th>age</th>\n",
       "        </tr>\n",
       "    </thead>\n",
       "    <tbody>\n",
       "        <tr>\n",
       "            <td>1</td>\n",
       "            <td>Alice</td>\n",
       "            <td>20</td>\n",
       "        </tr>\n",
       "        <tr>\n",
       "            <td>2</td>\n",
       "            <td>Bob</td>\n",
       "            <td>22</td>\n",
       "        </tr>\n",
       "        <tr>\n",
       "            <td>3</td>\n",
       "            <td>Charlie</td>\n",
       "            <td>21</td>\n",
       "        </tr>\n",
       "        <tr>\n",
       "            <td>4</td>\n",
       "            <td>Diana</td>\n",
       "            <td>20</td>\n",
       "        </tr>\n",
       "    </tbody>\n",
       "</table>"
      ],
      "text/plain": [
       "[(1, 'Alice', 20), (2, 'Bob', 22), (3, 'Charlie', 21), (4, 'Diana', 20)]"
      ]
     },
     "execution_count": 5,
     "metadata": {},
     "output_type": "execute_result"
    }
   ],
   "source": [
    "%%sql\n",
    "SELECT *\n",
    "FROM Students"
   ]
  },
  {
   "cell_type": "code",
   "execution_count": 6,
   "id": "9649a642-3d08-4e13-a77d-f81c2a20bdf7",
   "metadata": {},
   "outputs": [
    {
     "name": "stdout",
     "output_type": "stream",
     "text": [
      " * sqlite:///question_bank.db\n",
      "Done.\n"
     ]
    },
    {
     "data": {
      "text/html": [
       "<table>\n",
       "    <thead>\n",
       "        <tr>\n",
       "            <th>course_id</th>\n",
       "            <th>course_name</th>\n",
       "        </tr>\n",
       "    </thead>\n",
       "    <tbody>\n",
       "        <tr>\n",
       "            <td>101</td>\n",
       "            <td>SQL Basics</td>\n",
       "        </tr>\n",
       "        <tr>\n",
       "            <td>102</td>\n",
       "            <td>Python for Data</td>\n",
       "        </tr>\n",
       "        <tr>\n",
       "            <td>103</td>\n",
       "            <td>Data Structures</td>\n",
       "        </tr>\n",
       "    </tbody>\n",
       "</table>"
      ],
      "text/plain": [
       "[(101, 'SQL Basics'), (102, 'Python for Data'), (103, 'Data Structures')]"
      ]
     },
     "execution_count": 6,
     "metadata": {},
     "output_type": "execute_result"
    }
   ],
   "source": [
    "%%sql\n",
    "SELECT *\n",
    "FROM Courses"
   ]
  },
  {
   "cell_type": "code",
   "execution_count": 7,
   "id": "0f5caec4-55e7-4d8f-b40d-e5a2dbdb2eb9",
   "metadata": {},
   "outputs": [
    {
     "name": "stdout",
     "output_type": "stream",
     "text": [
      " * sqlite:///question_bank.db\n",
      "Done.\n"
     ]
    },
    {
     "data": {
      "text/html": [
       "<table>\n",
       "    <thead>\n",
       "        <tr>\n",
       "            <th>enrollment_id</th>\n",
       "            <th>student_id</th>\n",
       "            <th>course_id</th>\n",
       "            <th>enrollment_date</th>\n",
       "        </tr>\n",
       "    </thead>\n",
       "    <tbody>\n",
       "        <tr>\n",
       "            <td>1</td>\n",
       "            <td>1</td>\n",
       "            <td>101</td>\n",
       "            <td>2024-01-10</td>\n",
       "        </tr>\n",
       "        <tr>\n",
       "            <td>2</td>\n",
       "            <td>1</td>\n",
       "            <td>102</td>\n",
       "            <td>2024-02-15</td>\n",
       "        </tr>\n",
       "        <tr>\n",
       "            <td>3</td>\n",
       "            <td>2</td>\n",
       "            <td>101</td>\n",
       "            <td>2024-01-12</td>\n",
       "        </tr>\n",
       "        <tr>\n",
       "            <td>4</td>\n",
       "            <td>3</td>\n",
       "            <td>103</td>\n",
       "            <td>2024-03-20</td>\n",
       "        </tr>\n",
       "        <tr>\n",
       "            <td>5</td>\n",
       "            <td>4</td>\n",
       "            <td>101</td>\n",
       "            <td>2024-04-01</td>\n",
       "        </tr>\n",
       "    </tbody>\n",
       "</table>"
      ],
      "text/plain": [
       "[(1, 1, 101, '2024-01-10'),\n",
       " (2, 1, 102, '2024-02-15'),\n",
       " (3, 2, 101, '2024-01-12'),\n",
       " (4, 3, 103, '2024-03-20'),\n",
       " (5, 4, 101, '2024-04-01')]"
      ]
     },
     "execution_count": 7,
     "metadata": {},
     "output_type": "execute_result"
    }
   ],
   "source": [
    "%%sql\n",
    "SELECT *\n",
    "FROM Enrollments"
   ]
  },
  {
   "cell_type": "markdown",
   "id": "b8360d35-2806-417d-9c1c-6483901bd011",
   "metadata": {},
   "source": [
    "### Q.1 Write a query to display the names of all students along with the courses they are enrolled in."
   ]
  },
  {
   "cell_type": "code",
   "execution_count": 8,
   "id": "ecbaa428-e546-4d03-b2ef-d8719349da4d",
   "metadata": {},
   "outputs": [
    {
     "name": "stdout",
     "output_type": "stream",
     "text": [
      " * sqlite:///question_bank.db\n",
      "Done.\n"
     ]
    },
    {
     "data": {
      "text/html": [
       "<table>\n",
       "    <thead>\n",
       "        <tr>\n",
       "            <th>student_name</th>\n",
       "            <th>course_name</th>\n",
       "        </tr>\n",
       "    </thead>\n",
       "    <tbody>\n",
       "        <tr>\n",
       "            <td>Alice</td>\n",
       "            <td>SQL Basics</td>\n",
       "        </tr>\n",
       "        <tr>\n",
       "            <td>Alice</td>\n",
       "            <td>Python for Data</td>\n",
       "        </tr>\n",
       "        <tr>\n",
       "            <td>Bob</td>\n",
       "            <td>SQL Basics</td>\n",
       "        </tr>\n",
       "        <tr>\n",
       "            <td>Charlie</td>\n",
       "            <td>Data Structures</td>\n",
       "        </tr>\n",
       "        <tr>\n",
       "            <td>Diana</td>\n",
       "            <td>SQL Basics</td>\n",
       "        </tr>\n",
       "    </tbody>\n",
       "</table>"
      ],
      "text/plain": [
       "[('Alice', 'SQL Basics'),\n",
       " ('Alice', 'Python for Data'),\n",
       " ('Bob', 'SQL Basics'),\n",
       " ('Charlie', 'Data Structures'),\n",
       " ('Diana', 'SQL Basics')]"
      ]
     },
     "execution_count": 8,
     "metadata": {},
     "output_type": "execute_result"
    }
   ],
   "source": [
    "%%sql\n",
    "\n",
    "SELECT s.name AS student_name,c.course_name\n",
    "FROM Enrollments e\n",
    "JOIN Students s ON s.student_id=e.student_id\n",
    "JOIN Courses c ON e.course_id=c.course_id"
   ]
  },
  {
   "cell_type": "markdown",
   "id": "75c8b06f-358f-46be-9a0f-6f05c450155a",
   "metadata": {},
   "source": [
    "### Q.2 List the names of students who are enrolled in the course \"SQL Basics\"."
   ]
  },
  {
   "cell_type": "code",
   "execution_count": 9,
   "id": "bc80ae55-c84b-451f-8ecd-ab062b7a16ab",
   "metadata": {},
   "outputs": [
    {
     "name": "stdout",
     "output_type": "stream",
     "text": [
      " * sqlite:///question_bank.db\n",
      "Done.\n"
     ]
    },
    {
     "data": {
      "text/html": [
       "<table>\n",
       "    <thead>\n",
       "        <tr>\n",
       "            <th>student_name</th>\n",
       "            <th>Course_name</th>\n",
       "        </tr>\n",
       "    </thead>\n",
       "    <tbody>\n",
       "        <tr>\n",
       "            <td>Alice</td>\n",
       "            <td>SQL Basics</td>\n",
       "        </tr>\n",
       "        <tr>\n",
       "            <td>Bob</td>\n",
       "            <td>SQL Basics</td>\n",
       "        </tr>\n",
       "        <tr>\n",
       "            <td>Diana</td>\n",
       "            <td>SQL Basics</td>\n",
       "        </tr>\n",
       "    </tbody>\n",
       "</table>"
      ],
      "text/plain": [
       "[('Alice', 'SQL Basics'), ('Bob', 'SQL Basics'), ('Diana', 'SQL Basics')]"
      ]
     },
     "execution_count": 9,
     "metadata": {},
     "output_type": "execute_result"
    }
   ],
   "source": [
    "%%sql\n",
    "\n",
    "SELECT s.name AS student_name,c.course_name AS Course_name\n",
    "FROM Enrollments e\n",
    "JOIN Students s ON s.student_id=e.student_id\n",
    "JOIN Courses c ON e.course_id=c.course_id\n",
    "WHERE Course_name = 'SQL Basics'"
   ]
  },
  {
   "cell_type": "markdown",
   "id": "65022b9d-a7cb-4858-a299-9f91d830b4c6",
   "metadata": {},
   "source": [
    "### Q.3. Use a CTE to first find all enrollments that happened in March 2024, and then join to get the student name and course name for those enrollments."
   ]
  },
  {
   "cell_type": "code",
   "execution_count": 11,
   "id": "b9f92212-88ee-4c5c-b91b-1fecbfa72562",
   "metadata": {},
   "outputs": [
    {
     "name": "stdout",
     "output_type": "stream",
     "text": [
      " * sqlite:///question_bank.db\n",
      "Done.\n"
     ]
    },
    {
     "data": {
      "text/html": [
       "<table>\n",
       "    <thead>\n",
       "        <tr>\n",
       "            <th>enrollment_id</th>\n",
       "            <th>student_id</th>\n",
       "            <th>course_id</th>\n",
       "            <th>enrollment_date</th>\n",
       "        </tr>\n",
       "    </thead>\n",
       "    <tbody>\n",
       "        <tr>\n",
       "            <td>4</td>\n",
       "            <td>3</td>\n",
       "            <td>103</td>\n",
       "            <td>2024-03-20</td>\n",
       "        </tr>\n",
       "    </tbody>\n",
       "</table>"
      ],
      "text/plain": [
       "[(4, 3, 103, '2024-03-20')]"
      ]
     },
     "execution_count": 11,
     "metadata": {},
     "output_type": "execute_result"
    }
   ],
   "source": [
    "%%sql\n",
    "SELECT *\n",
    "FROM Enrollments\n",
    "WHERE strftime('%m', enrollment_date) = '03'"
   ]
  },
  {
   "cell_type": "code",
   "execution_count": 14,
   "id": "89649bed-1a0f-41ac-8a0c-a7ef57016053",
   "metadata": {},
   "outputs": [
    {
     "name": "stdout",
     "output_type": "stream",
     "text": [
      " * sqlite:///question_bank.db\n",
      "Done.\n"
     ]
    },
    {
     "data": {
      "text/html": [
       "<table>\n",
       "    <thead>\n",
       "        <tr>\n",
       "            <th>Name</th>\n",
       "            <th>Course_name</th>\n",
       "            <th>enrollment_id</th>\n",
       "        </tr>\n",
       "    </thead>\n",
       "    <tbody>\n",
       "        <tr>\n",
       "            <td>Charlie</td>\n",
       "            <td>Data Structures</td>\n",
       "            <td>4</td>\n",
       "        </tr>\n",
       "    </tbody>\n",
       "</table>"
      ],
      "text/plain": [
       "[('Charlie', 'Data Structures', 4)]"
      ]
     },
     "execution_count": 14,
     "metadata": {},
     "output_type": "execute_result"
    }
   ],
   "source": [
    "%%sql\n",
    "\n",
    "\n",
    "-- step 1 - Total enrollments in march 2024 = Output \n",
    "-- JOIN\n",
    "-- step 2 - student name and course name for those enrollments\n",
    "\n",
    "WITH en AS (SELECT *\n",
    "            FROM Enrollments\n",
    "            WHERE strftime('%m', enrollment_date) = '03'\n",
    "            )\n",
    "SELECT s.name AS Name,c.course_name AS Course_name,en.enrollment_id\n",
    "FROM en\n",
    "JOIN Students s ON s.student_id=en.student_id\n",
    "JOIN Courses c ON c.course_id=en.course_id;\n"
   ]
  },
  {
   "cell_type": "markdown",
   "id": "3695163d-990f-4800-9786-6675d160dd29",
   "metadata": {},
   "source": [
    "* Always see how Tables relate - if there are 3 tables, most prob, they will be joined \n",
    "* Use CTEs for Simplify JOINS\n",
    "* Again, Pratice more on this"
   ]
  },
  {
   "cell_type": "markdown",
   "id": "8b9df610-28a1-4ecd-b05f-2fd1cb7d04cd",
   "metadata": {},
   "source": [
    "### Q.4 Use a CTE to count how many courses each student is enrolled in, and display their name along with that count."
   ]
  },
  {
   "cell_type": "code",
   "execution_count": 22,
   "id": "338d3617-1262-4ea0-bd13-75c04bcb13b8",
   "metadata": {},
   "outputs": [
    {
     "name": "stdout",
     "output_type": "stream",
     "text": [
      " * sqlite:///question_bank.db\n",
      "Done.\n"
     ]
    },
    {
     "data": {
      "text/html": [
       "<table>\n",
       "    <thead>\n",
       "        <tr>\n",
       "            <th>student_id</th>\n",
       "            <th>name</th>\n",
       "            <th>age</th>\n",
       "        </tr>\n",
       "    </thead>\n",
       "    <tbody>\n",
       "        <tr>\n",
       "            <td>1</td>\n",
       "            <td>Alice</td>\n",
       "            <td>20</td>\n",
       "        </tr>\n",
       "        <tr>\n",
       "            <td>2</td>\n",
       "            <td>Bob</td>\n",
       "            <td>22</td>\n",
       "        </tr>\n",
       "        <tr>\n",
       "            <td>3</td>\n",
       "            <td>Charlie</td>\n",
       "            <td>21</td>\n",
       "        </tr>\n",
       "        <tr>\n",
       "            <td>4</td>\n",
       "            <td>Diana</td>\n",
       "            <td>20</td>\n",
       "        </tr>\n",
       "    </tbody>\n",
       "</table>"
      ],
      "text/plain": [
       "[(1, 'Alice', 20), (2, 'Bob', 22), (3, 'Charlie', 21), (4, 'Diana', 20)]"
      ]
     },
     "execution_count": 22,
     "metadata": {},
     "output_type": "execute_result"
    }
   ],
   "source": [
    "%%sql\n",
    "SELECT * FROM Students"
   ]
  },
  {
   "cell_type": "code",
   "execution_count": 15,
   "id": "21f0decf-831f-43dd-8538-d7d957eefd6b",
   "metadata": {},
   "outputs": [
    {
     "name": "stdout",
     "output_type": "stream",
     "text": [
      " * sqlite:///question_bank.db\n",
      "Done.\n"
     ]
    },
    {
     "data": {
      "text/html": [
       "<table>\n",
       "    <thead>\n",
       "        <tr>\n",
       "            <th>enrollment_id</th>\n",
       "            <th>student_id</th>\n",
       "            <th>course_id</th>\n",
       "            <th>enrollment_date</th>\n",
       "        </tr>\n",
       "    </thead>\n",
       "    <tbody>\n",
       "        <tr>\n",
       "            <td>1</td>\n",
       "            <td>1</td>\n",
       "            <td>101</td>\n",
       "            <td>2024-01-10</td>\n",
       "        </tr>\n",
       "        <tr>\n",
       "            <td>2</td>\n",
       "            <td>1</td>\n",
       "            <td>102</td>\n",
       "            <td>2024-02-15</td>\n",
       "        </tr>\n",
       "        <tr>\n",
       "            <td>3</td>\n",
       "            <td>2</td>\n",
       "            <td>101</td>\n",
       "            <td>2024-01-12</td>\n",
       "        </tr>\n",
       "        <tr>\n",
       "            <td>4</td>\n",
       "            <td>3</td>\n",
       "            <td>103</td>\n",
       "            <td>2024-03-20</td>\n",
       "        </tr>\n",
       "        <tr>\n",
       "            <td>5</td>\n",
       "            <td>4</td>\n",
       "            <td>101</td>\n",
       "            <td>2024-04-01</td>\n",
       "        </tr>\n",
       "    </tbody>\n",
       "</table>"
      ],
      "text/plain": [
       "[(1, 1, 101, '2024-01-10'),\n",
       " (2, 1, 102, '2024-02-15'),\n",
       " (3, 2, 101, '2024-01-12'),\n",
       " (4, 3, 103, '2024-03-20'),\n",
       " (5, 4, 101, '2024-04-01')]"
      ]
     },
     "execution_count": 15,
     "metadata": {},
     "output_type": "execute_result"
    }
   ],
   "source": [
    "%%sql\n",
    "SELECT * FROM Enrollments"
   ]
  },
  {
   "cell_type": "code",
   "execution_count": 17,
   "id": "55e51d85-7502-45d5-97cc-070eb8dfb375",
   "metadata": {},
   "outputs": [
    {
     "name": "stdout",
     "output_type": "stream",
     "text": [
      " * sqlite:///question_bank.db\n",
      "Done.\n"
     ]
    },
    {
     "data": {
      "text/html": [
       "<table>\n",
       "    <thead>\n",
       "        <tr>\n",
       "            <th>course_id</th>\n",
       "            <th>course_name</th>\n",
       "        </tr>\n",
       "    </thead>\n",
       "    <tbody>\n",
       "        <tr>\n",
       "            <td>101</td>\n",
       "            <td>SQL Basics</td>\n",
       "        </tr>\n",
       "        <tr>\n",
       "            <td>102</td>\n",
       "            <td>Python for Data</td>\n",
       "        </tr>\n",
       "        <tr>\n",
       "            <td>103</td>\n",
       "            <td>Data Structures</td>\n",
       "        </tr>\n",
       "    </tbody>\n",
       "</table>"
      ],
      "text/plain": [
       "[(101, 'SQL Basics'), (102, 'Python for Data'), (103, 'Data Structures')]"
      ]
     },
     "execution_count": 17,
     "metadata": {},
     "output_type": "execute_result"
    }
   ],
   "source": [
    "%%sql\n",
    "SELECT * FROM COURSES"
   ]
  },
  {
   "cell_type": "code",
   "execution_count": 16,
   "id": "5362a144-f688-443a-ba74-f11bce26885f",
   "metadata": {},
   "outputs": [
    {
     "name": "stdout",
     "output_type": "stream",
     "text": [
      " * sqlite:///question_bank.db\n",
      "Done.\n"
     ]
    },
    {
     "data": {
      "text/html": [
       "<table>\n",
       "    <thead>\n",
       "        <tr>\n",
       "            <th>student_id</th>\n",
       "            <th>Count_of_courses</th>\n",
       "        </tr>\n",
       "    </thead>\n",
       "    <tbody>\n",
       "        <tr>\n",
       "            <td>1</td>\n",
       "            <td>2</td>\n",
       "        </tr>\n",
       "        <tr>\n",
       "            <td>2</td>\n",
       "            <td>1</td>\n",
       "        </tr>\n",
       "        <tr>\n",
       "            <td>3</td>\n",
       "            <td>1</td>\n",
       "        </tr>\n",
       "        <tr>\n",
       "            <td>4</td>\n",
       "            <td>1</td>\n",
       "        </tr>\n",
       "    </tbody>\n",
       "</table>"
      ],
      "text/plain": [
       "[(1, 2), (2, 1), (3, 1), (4, 1)]"
      ]
     },
     "execution_count": 16,
     "metadata": {},
     "output_type": "execute_result"
    }
   ],
   "source": [
    "%%sql\n",
    "\n",
    "-- How many - COUNT\n",
    "-- each student - GROUP BY\n",
    "-- Columns - name, count of courses\n",
    "-- JOINS - we need name,\n",
    "\n",
    "-- Step 1 - count courses for each student\n",
    "\n",
    "\n",
    "SELECT student_id, COUNT(*) AS Count_of_courses\n",
    "FROM Enrollments\n",
    "GROUP BY student_id"
   ]
  },
  {
   "cell_type": "code",
   "execution_count": 19,
   "id": "3af6e0a0-c49c-4376-ac42-dbfe60e07b65",
   "metadata": {},
   "outputs": [
    {
     "name": "stdout",
     "output_type": "stream",
     "text": [
      " * sqlite:///question_bank.db\n",
      "Done.\n"
     ]
    },
    {
     "data": {
      "text/html": [
       "<table>\n",
       "    <thead>\n",
       "        <tr>\n",
       "            <th>name</th>\n",
       "            <th>Count_of_courses</th>\n",
       "        </tr>\n",
       "    </thead>\n",
       "    <tbody>\n",
       "        <tr>\n",
       "            <td>Alice</td>\n",
       "            <td>2</td>\n",
       "        </tr>\n",
       "        <tr>\n",
       "            <td>Bob</td>\n",
       "            <td>1</td>\n",
       "        </tr>\n",
       "        <tr>\n",
       "            <td>Charlie</td>\n",
       "            <td>1</td>\n",
       "        </tr>\n",
       "        <tr>\n",
       "            <td>Diana</td>\n",
       "            <td>1</td>\n",
       "        </tr>\n",
       "    </tbody>\n",
       "</table>"
      ],
      "text/plain": [
       "[('Alice', 2), ('Bob', 1), ('Charlie', 1), ('Diana', 1)]"
      ]
     },
     "execution_count": 19,
     "metadata": {},
     "output_type": "execute_result"
    }
   ],
   "source": [
    "%%sql\n",
    "\n",
    "\n",
    "WITH gf AS (SELECT student_id, COUNT(*) AS Count_of_courses\n",
    "            FROM Enrollments\n",
    "            GROUP BY student_id\n",
    "            )\n",
    "SELECT s.name, Count_of_Courses\n",
    "FROM gf\n",
    "JOIN Students s \n",
    "ON gf.student_id=s.student_id\n",
    "\n",
    "-- This is the most effective"
   ]
  },
  {
   "cell_type": "code",
   "execution_count": 20,
   "id": "929fc64c-658f-40f6-a1ed-9018dec615d1",
   "metadata": {},
   "outputs": [
    {
     "name": "stdout",
     "output_type": "stream",
     "text": [
      " * sqlite:///question_bank.db\n",
      "Done.\n"
     ]
    },
    {
     "data": {
      "text/html": [
       "<table>\n",
       "    <thead>\n",
       "        <tr>\n",
       "            <th>name</th>\n",
       "            <th>Course_Count</th>\n",
       "        </tr>\n",
       "    </thead>\n",
       "    <tbody>\n",
       "        <tr>\n",
       "            <td>Alice</td>\n",
       "            <td>2</td>\n",
       "        </tr>\n",
       "        <tr>\n",
       "            <td>Bob</td>\n",
       "            <td>1</td>\n",
       "        </tr>\n",
       "        <tr>\n",
       "            <td>Charlie</td>\n",
       "            <td>1</td>\n",
       "        </tr>\n",
       "        <tr>\n",
       "            <td>Diana</td>\n",
       "            <td>1</td>\n",
       "        </tr>\n",
       "    </tbody>\n",
       "</table>"
      ],
      "text/plain": [
       "[('Alice', 2), ('Bob', 1), ('Charlie', 1), ('Diana', 1)]"
      ]
     },
     "execution_count": 20,
     "metadata": {},
     "output_type": "execute_result"
    }
   ],
   "source": [
    "%%sql\n",
    "\n",
    "SELECT s.name,COUNT(e.course_id) AS Course_Count\n",
    "FROM Students s\n",
    "JOIN Enrollments e\n",
    "ON s.student_id=e.student_id\n",
    "GROUP BY s.student_id,s.name;"
   ]
  },
  {
   "cell_type": "markdown",
   "id": "7cd2973e-7d98-45ab-90bd-2e7cc6c43c2b",
   "metadata": {},
   "source": [
    "### Q.5 - Write a query using a CTE to list students who are enrolled in more than one course."
   ]
  },
  {
   "cell_type": "code",
   "execution_count": 21,
   "id": "68e95199-c31f-40f6-aec8-6fb018c58c35",
   "metadata": {},
   "outputs": [
    {
     "name": "stdout",
     "output_type": "stream",
     "text": [
      " * sqlite:///question_bank.db\n",
      "Done.\n"
     ]
    },
    {
     "data": {
      "text/html": [
       "<table>\n",
       "    <thead>\n",
       "        <tr>\n",
       "            <th>name</th>\n",
       "            <th>Count_of_courses</th>\n",
       "        </tr>\n",
       "    </thead>\n",
       "    <tbody>\n",
       "        <tr>\n",
       "            <td>Alice</td>\n",
       "            <td>2</td>\n",
       "        </tr>\n",
       "    </tbody>\n",
       "</table>"
      ],
      "text/plain": [
       "[('Alice', 2)]"
      ]
     },
     "execution_count": 21,
     "metadata": {},
     "output_type": "execute_result"
    }
   ],
   "source": [
    "%%sql\n",
    "\n",
    "-- Students enrolled in more than one course\n",
    "-- Student_name, count of courses\n",
    "\n",
    "WITH gf AS (SELECT student_id, COUNT(*) AS Count_of_courses\n",
    "            FROM Enrollments\n",
    "            GROUP BY student_id\n",
    "            )\n",
    "SELECT s.name, Count_of_Courses\n",
    "FROM gf\n",
    "JOIN Students s \n",
    "ON gf.student_id=s.student_id\n",
    "WHERE Count_of_Courses > 1;"
   ]
  },
  {
   "cell_type": "code",
   "execution_count": null,
   "id": "53444920-9195-4ff6-a17f-207d3b0e312c",
   "metadata": {},
   "outputs": [],
   "source": []
  }
 ],
 "metadata": {
  "kernelspec": {
   "display_name": "Python [conda env:base] *",
   "language": "python",
   "name": "conda-base-py"
  },
  "language_info": {
   "codemirror_mode": {
    "name": "ipython",
    "version": 3
   },
   "file_extension": ".py",
   "mimetype": "text/x-python",
   "name": "python",
   "nbconvert_exporter": "python",
   "pygments_lexer": "ipython3",
   "version": "3.12.7"
  }
 },
 "nbformat": 4,
 "nbformat_minor": 5
}
