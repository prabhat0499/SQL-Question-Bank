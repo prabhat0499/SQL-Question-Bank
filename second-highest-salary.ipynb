{
 "cells": [
  {
   "cell_type": "code",
   "execution_count": 1,
   "id": "fc8f678e-e0a4-45d8-bd51-9bf43681fa93",
   "metadata": {},
   "outputs": [
    {
     "name": "stdout",
     "output_type": "stream",
     "text": [
      "Successfully connected to SQL database\n",
      "success\n"
     ]
    }
   ],
   "source": [
    "import pandas as pd\n",
    "import sqlite3\n",
    "import sql\n",
    "sql.style = 'plain'\n",
    "%load_ext sql\n",
    "connection=sqlite3.connect(\"question_bank.db\")\n",
    "print(\"Successfully connected to SQL database\")\n",
    "# Connect to SQLite\n",
    "%sql sqlite:///question_bank.db\n",
    "print(\"success\")"
   ]
  },
  {
   "cell_type": "code",
   "execution_count": 2,
   "id": "fe635943-a5e9-44a1-a5cb-598214c4f9f9",
   "metadata": {},
   "outputs": [
    {
     "name": "stdout",
     "output_type": "stream",
     "text": [
      " * sqlite:///question_bank.db\n",
      "Done.\n",
      "5 rows affected.\n"
     ]
    },
    {
     "data": {
      "text/plain": [
       "[]"
      ]
     },
     "execution_count": 2,
     "metadata": {},
     "output_type": "execute_result"
    }
   ],
   "source": [
    "%%sql\n",
    "CREATE TABLE Employ (\n",
    "    employee_id INTEGER,\n",
    "    name TEXT,\n",
    "    salary INTEGER\n",
    ");\n",
    "\n",
    "-- Sample Data\n",
    "INSERT INTO Employ (employee_id, name, salary) VALUES\n",
    "(1, 'Alice', 90000),\n",
    "(2, 'Bob', 85000),\n",
    "(3, 'Charlie', 90000),\n",
    "(4, 'Diana', 80000),\n",
    "(5, 'Eve', 70000);"
   ]
  },
  {
   "cell_type": "code",
   "execution_count": 3,
   "id": "1387cb7a-4405-4f64-9e09-57a60e652b38",
   "metadata": {},
   "outputs": [
    {
     "name": "stdout",
     "output_type": "stream",
     "text": [
      " * sqlite:///question_bank.db\n",
      "Done.\n"
     ]
    },
    {
     "data": {
      "text/html": [
       "<table>\n",
       "    <thead>\n",
       "        <tr>\n",
       "            <th>employee_id</th>\n",
       "            <th>name</th>\n",
       "            <th>salary</th>\n",
       "        </tr>\n",
       "    </thead>\n",
       "    <tbody>\n",
       "        <tr>\n",
       "            <td>1</td>\n",
       "            <td>Alice</td>\n",
       "            <td>90000</td>\n",
       "        </tr>\n",
       "        <tr>\n",
       "            <td>2</td>\n",
       "            <td>Bob</td>\n",
       "            <td>85000</td>\n",
       "        </tr>\n",
       "        <tr>\n",
       "            <td>3</td>\n",
       "            <td>Charlie</td>\n",
       "            <td>90000</td>\n",
       "        </tr>\n",
       "        <tr>\n",
       "            <td>4</td>\n",
       "            <td>Diana</td>\n",
       "            <td>80000</td>\n",
       "        </tr>\n",
       "        <tr>\n",
       "            <td>5</td>\n",
       "            <td>Eve</td>\n",
       "            <td>70000</td>\n",
       "        </tr>\n",
       "    </tbody>\n",
       "</table>"
      ],
      "text/plain": [
       "[(1, 'Alice', 90000),\n",
       " (2, 'Bob', 85000),\n",
       " (3, 'Charlie', 90000),\n",
       " (4, 'Diana', 80000),\n",
       " (5, 'Eve', 70000)]"
      ]
     },
     "execution_count": 3,
     "metadata": {},
     "output_type": "execute_result"
    }
   ],
   "source": [
    "%%sql\n",
    "SELECT * FROM Employ"
   ]
  },
  {
   "cell_type": "code",
   "execution_count": 4,
   "id": "b601a164-3c15-4fa0-bc78-8c824a0ac040",
   "metadata": {},
   "outputs": [
    {
     "name": "stdout",
     "output_type": "stream",
     "text": [
      " * sqlite:///question_bank.db\n",
      "Done.\n"
     ]
    },
    {
     "data": {
      "text/html": [
       "<table>\n",
       "    <thead>\n",
       "        <tr>\n",
       "            <th>salary</th>\n",
       "            <th>rank</th>\n",
       "        </tr>\n",
       "    </thead>\n",
       "    <tbody>\n",
       "        <tr>\n",
       "            <td>90000</td>\n",
       "            <td>1</td>\n",
       "        </tr>\n",
       "        <tr>\n",
       "            <td>90000</td>\n",
       "            <td>1</td>\n",
       "        </tr>\n",
       "        <tr>\n",
       "            <td>85000</td>\n",
       "            <td>2</td>\n",
       "        </tr>\n",
       "        <tr>\n",
       "            <td>80000</td>\n",
       "            <td>3</td>\n",
       "        </tr>\n",
       "        <tr>\n",
       "            <td>70000</td>\n",
       "            <td>4</td>\n",
       "        </tr>\n",
       "    </tbody>\n",
       "</table>"
      ],
      "text/plain": [
       "[(90000, 1), (90000, 1), (85000, 2), (80000, 3), (70000, 4)]"
      ]
     },
     "execution_count": 4,
     "metadata": {},
     "output_type": "execute_result"
    }
   ],
   "source": [
    "%%sql\n",
    "-- Rank the salaries and pick the second highest\n",
    "-- RANK and DENSE RANK to rank salaries\n",
    "\n",
    "SELECT salary, DENSE_RANK () OVER (ORDER BY salary DESC) AS rank\n",
    "FROM Employ\n",
    "\n",
    "-- DENSE_RANK() assigns the same rank to duplicates -- Handles Duplicates \n",
    "-- (it doesn't give different ranks to duplicates - keeps things fair enough)\n",
    "-- We're ordering by salary descending, so:\n",
    "-- Highest salary gets rank 1\n",
    "-- Second highest gets rank 2\n",
    "-- Then we filter for rank = 2."
   ]
  },
  {
   "cell_type": "code",
   "execution_count": 5,
   "id": "e8d72bd9-b7e4-439d-ba34-5563446e89a9",
   "metadata": {},
   "outputs": [
    {
     "name": "stdout",
     "output_type": "stream",
     "text": [
      " * sqlite:///question_bank.db\n",
      "Done.\n"
     ]
    },
    {
     "data": {
      "text/html": [
       "<table>\n",
       "    <thead>\n",
       "        <tr>\n",
       "            <th>salary</th>\n",
       "        </tr>\n",
       "    </thead>\n",
       "    <tbody>\n",
       "        <tr>\n",
       "            <td>85000</td>\n",
       "        </tr>\n",
       "    </tbody>\n",
       "</table>"
      ],
      "text/plain": [
       "[(85000,)]"
      ]
     },
     "execution_count": 5,
     "metadata": {},
     "output_type": "execute_result"
    }
   ],
   "source": [
    "%%sql\n",
    "\n",
    "WITH Salrank AS (SELECT salary, DENSE_RANK () OVER (ORDER BY salary DESC) AS rank\n",
    "                FROM Employ\n",
    "            )\n",
    "SELECT salary\n",
    "FROM Salrank  -- name of the table that has salaries and thier ranks\n",
    "WHERE rank =2;"
   ]
  },
  {
   "cell_type": "markdown",
   "id": "36631f06-3400-4e3f-80ef-d12fa5ac7ca4",
   "metadata": {},
   "source": [
    "* WHY NOT ROW_NUMBER()\n",
    "* Will not give same rank to duplicates\n",
    "* This is correct only if all salaries are unique."
   ]
  },
  {
   "cell_type": "code",
   "execution_count": 6,
   "id": "331bcdbf-18b8-4649-8eb8-556f68c33172",
   "metadata": {},
   "outputs": [
    {
     "name": "stdout",
     "output_type": "stream",
     "text": [
      " * sqlite:///question_bank.db\n",
      "Done.\n"
     ]
    },
    {
     "data": {
      "text/html": [
       "<table>\n",
       "    <thead>\n",
       "        <tr>\n",
       "            <th>salary</th>\n",
       "            <th>rank</th>\n",
       "        </tr>\n",
       "    </thead>\n",
       "    <tbody>\n",
       "        <tr>\n",
       "            <td>90000</td>\n",
       "            <td>1</td>\n",
       "        </tr>\n",
       "        <tr>\n",
       "            <td>90000</td>\n",
       "            <td>2</td>\n",
       "        </tr>\n",
       "        <tr>\n",
       "            <td>85000</td>\n",
       "            <td>3</td>\n",
       "        </tr>\n",
       "        <tr>\n",
       "            <td>80000</td>\n",
       "            <td>4</td>\n",
       "        </tr>\n",
       "        <tr>\n",
       "            <td>70000</td>\n",
       "            <td>5</td>\n",
       "        </tr>\n",
       "    </tbody>\n",
       "</table>"
      ],
      "text/plain": [
       "[(90000, 1), (90000, 2), (85000, 3), (80000, 4), (70000, 5)]"
      ]
     },
     "execution_count": 6,
     "metadata": {},
     "output_type": "execute_result"
    }
   ],
   "source": [
    "%%sql\n",
    "SELECT salary, ROW_NUMBER () OVER (ORDER BY salary DESC) AS rank\n",
    "FROM Employ"
   ]
  },
  {
   "cell_type": "markdown",
   "id": "8436e65c-2e3f-487c-b304-1ab7ea6d4dd0",
   "metadata": {},
   "source": [
    "* Summary\n",
    "\n",
    "1. ROW_NUMBER()\tYou want unique order (no ties)\n",
    "2. RANK()\tYou want gaps in ranks for ties\n",
    "3. DENSE_RANK()\tYou want ties without gaps"
   ]
  },
  {
   "cell_type": "markdown",
   "id": "711c4ce1-33a8-484e-af82-a1cddb871c44",
   "metadata": {},
   "source": [
    "### Another scenario/method/different dataset"
   ]
  },
  {
   "cell_type": "code",
   "execution_count": 8,
   "id": "93afbce1-dcd3-4cc4-a24c-af77aa6f28bc",
   "metadata": {},
   "outputs": [
    {
     "name": "stdout",
     "output_type": "stream",
     "text": [
      " * sqlite:///question_bank.db\n",
      "Done.\n",
      "6 rows affected.\n"
     ]
    },
    {
     "data": {
      "text/plain": [
       "[]"
      ]
     },
     "execution_count": 8,
     "metadata": {},
     "output_type": "execute_result"
    }
   ],
   "source": [
    "%%sql\n",
    "-- Create the Employe table\n",
    "CREATE TABLE Employe (\n",
    "    employee_id INTEGER PRIMARY KEY,\n",
    "    name TEXT,\n",
    "    salary INTEGER\n",
    ");\n",
    "\n",
    "-- Insert sample data\n",
    "INSERT INTO Employe (employee_id, name, salary) VALUES\n",
    "(1, 'Alice', 90000),\n",
    "(2, 'Bob', 85000),\n",
    "(3, 'Charlie', 90000),\n",
    "(4, 'Diana', 80000),\n",
    "(5, 'Eve', 70000),\n",
    "(6, 'Frank', 80000);"
   ]
  },
  {
   "cell_type": "code",
   "execution_count": 9,
   "id": "f6da9a61-a83a-4cc4-9068-34e3805411eb",
   "metadata": {},
   "outputs": [
    {
     "name": "stdout",
     "output_type": "stream",
     "text": [
      " * sqlite:///question_bank.db\n",
      "Done.\n"
     ]
    },
    {
     "data": {
      "text/html": [
       "<table>\n",
       "    <thead>\n",
       "        <tr>\n",
       "            <th>employee_id</th>\n",
       "            <th>name</th>\n",
       "            <th>salary</th>\n",
       "        </tr>\n",
       "    </thead>\n",
       "    <tbody>\n",
       "        <tr>\n",
       "            <td>1</td>\n",
       "            <td>Alice</td>\n",
       "            <td>90000</td>\n",
       "        </tr>\n",
       "        <tr>\n",
       "            <td>2</td>\n",
       "            <td>Bob</td>\n",
       "            <td>85000</td>\n",
       "        </tr>\n",
       "        <tr>\n",
       "            <td>3</td>\n",
       "            <td>Charlie</td>\n",
       "            <td>90000</td>\n",
       "        </tr>\n",
       "        <tr>\n",
       "            <td>4</td>\n",
       "            <td>Diana</td>\n",
       "            <td>80000</td>\n",
       "        </tr>\n",
       "        <tr>\n",
       "            <td>5</td>\n",
       "            <td>Eve</td>\n",
       "            <td>70000</td>\n",
       "        </tr>\n",
       "        <tr>\n",
       "            <td>6</td>\n",
       "            <td>Frank</td>\n",
       "            <td>80000</td>\n",
       "        </tr>\n",
       "    </tbody>\n",
       "</table>"
      ],
      "text/plain": [
       "[(1, 'Alice', 90000),\n",
       " (2, 'Bob', 85000),\n",
       " (3, 'Charlie', 90000),\n",
       " (4, 'Diana', 80000),\n",
       " (5, 'Eve', 70000),\n",
       " (6, 'Frank', 80000)]"
      ]
     },
     "execution_count": 9,
     "metadata": {},
     "output_type": "execute_result"
    }
   ],
   "source": [
    "%%sql\n",
    "SELECT * FROM Employe"
   ]
  },
  {
   "cell_type": "code",
   "execution_count": 10,
   "id": "cbda5f0e-a9d8-471f-95da-5a25eac656b2",
   "metadata": {},
   "outputs": [
    {
     "name": "stdout",
     "output_type": "stream",
     "text": [
      " * sqlite:///question_bank.db\n",
      "Done.\n"
     ]
    },
    {
     "data": {
      "text/html": [
       "<table>\n",
       "    <thead>\n",
       "        <tr>\n",
       "            <th>salary</th>\n",
       "            <th>ranked_salaries</th>\n",
       "            <th>employee_id</th>\n",
       "        </tr>\n",
       "    </thead>\n",
       "    <tbody>\n",
       "        <tr>\n",
       "            <td>90000</td>\n",
       "            <td>1</td>\n",
       "            <td>1</td>\n",
       "        </tr>\n",
       "        <tr>\n",
       "            <td>90000</td>\n",
       "            <td>1</td>\n",
       "            <td>3</td>\n",
       "        </tr>\n",
       "        <tr>\n",
       "            <td>85000</td>\n",
       "            <td>2</td>\n",
       "            <td>2</td>\n",
       "        </tr>\n",
       "        <tr>\n",
       "            <td>80000</td>\n",
       "            <td>3</td>\n",
       "            <td>4</td>\n",
       "        </tr>\n",
       "        <tr>\n",
       "            <td>80000</td>\n",
       "            <td>3</td>\n",
       "            <td>6</td>\n",
       "        </tr>\n",
       "        <tr>\n",
       "            <td>70000</td>\n",
       "            <td>4</td>\n",
       "            <td>5</td>\n",
       "        </tr>\n",
       "    </tbody>\n",
       "</table>"
      ],
      "text/plain": [
       "[(90000, 1, 1),\n",
       " (90000, 1, 3),\n",
       " (85000, 2, 2),\n",
       " (80000, 3, 4),\n",
       " (80000, 3, 6),\n",
       " (70000, 4, 5)]"
      ]
     },
     "execution_count": 10,
     "metadata": {},
     "output_type": "execute_result"
    }
   ],
   "source": [
    "%%sql\n",
    "SELECT salary, DENSE_RANK () OVER (ORDER BY salary DESC) AS ranked_salaries,employee_id\n",
    "FROM Employe"
   ]
  },
  {
   "cell_type": "code",
   "execution_count": 11,
   "id": "c5deb006-fde3-4dba-91e8-2dde96e7f4c7",
   "metadata": {},
   "outputs": [
    {
     "name": "stdout",
     "output_type": "stream",
     "text": [
      " * sqlite:///question_bank.db\n",
      "Done.\n"
     ]
    },
    {
     "data": {
      "text/html": [
       "<table>\n",
       "    <thead>\n",
       "        <tr>\n",
       "            <th>name</th>\n",
       "            <th>salary</th>\n",
       "            <th>ranked_salaries</th>\n",
       "        </tr>\n",
       "    </thead>\n",
       "    <tbody>\n",
       "        <tr>\n",
       "            <td>Diana</td>\n",
       "            <td>80000</td>\n",
       "            <td>3</td>\n",
       "        </tr>\n",
       "    </tbody>\n",
       "</table>"
      ],
      "text/plain": [
       "[('Diana', 80000, 3)]"
      ]
     },
     "execution_count": 11,
     "metadata": {},
     "output_type": "execute_result"
    }
   ],
   "source": [
    "%%sql\n",
    "\n",
    "WITH rh AS (SELECT salary, DENSE_RANK () OVER (ORDER BY salary DESC) AS ranked_salaries,employee_id\n",
    "            FROM Employe\n",
    "            )\n",
    "SELECT e.name, e.salary, rh.ranked_salaries\n",
    "FROM rh\n",
    "JOIN Employe e\n",
    "ON rh.employee_id=e.employee_id\n",
    "WHERE ranked_salaries = 3\n",
    "LIMIT 1;"
   ]
  }
 ],
 "metadata": {
  "kernelspec": {
   "display_name": "Python [conda env:base] *",
   "language": "python",
   "name": "conda-base-py"
  },
  "language_info": {
   "codemirror_mode": {
    "name": "ipython",
    "version": 3
   },
   "file_extension": ".py",
   "mimetype": "text/x-python",
   "name": "python",
   "nbconvert_exporter": "python",
   "pygments_lexer": "ipython3",
   "version": "3.12.7"
  }
 },
 "nbformat": 4,
 "nbformat_minor": 5
}
