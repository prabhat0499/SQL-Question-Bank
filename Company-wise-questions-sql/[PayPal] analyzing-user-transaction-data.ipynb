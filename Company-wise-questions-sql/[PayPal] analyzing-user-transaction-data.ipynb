{
 "cells": [
  {
   "cell_type": "markdown",
   "id": "babeb9da-8977-465f-afce-fb63c6cee35d",
   "metadata": {},
   "source": [
    "### Question: Transaction Totals & Averages per User (with Minimum Transaction Threshold)"
   ]
  },
  {
   "cell_type": "code",
   "execution_count": 1,
   "id": "1e21968b-63dd-453b-b093-6648335d9f27",
   "metadata": {},
   "outputs": [
    {
     "name": "stdout",
     "output_type": "stream",
     "text": [
      "Successfully connected to SQL database\n",
      "success\n"
     ]
    }
   ],
   "source": [
    "import pandas as pd\n",
    "import sqlite3\n",
    "import sql\n",
    "sql.style = 'plain'\n",
    "%load_ext sql\n",
    "connection=sqlite3.connect(\"question_bank.db\")\n",
    "print(\"Successfully connected to SQL database\")\n",
    "# Connect to SQLite\n",
    "%sql sqlite:///question_bank.db\n",
    "print(\"success\")"
   ]
  },
  {
   "cell_type": "code",
   "execution_count": 4,
   "id": "8b2df53a-bf12-4e69-93e7-e6b9b12e9bca",
   "metadata": {},
   "outputs": [
    {
     "name": "stdout",
     "output_type": "stream",
     "text": [
      " * sqlite:///question_bank.db\n",
      "Done.\n",
      "Done.\n",
      "7 rows affected.\n"
     ]
    },
    {
     "data": {
      "text/plain": [
       "[]"
      ]
     },
     "execution_count": 4,
     "metadata": {},
     "output_type": "execute_result"
    }
   ],
   "source": [
    "%%sql\n",
    "DROP TABLE transactions;\n",
    "\n",
    "CREATE TABLE transactions (\n",
    "    transaction_id INT,\n",
    "    user_id INT,\n",
    "    transaction_amount DECIMAL(10,2),\n",
    "    transaction_date DATE\n",
    ");\n",
    "\n",
    "INSERT INTO transactions VALUES\n",
    "(1, 101, 50.00, '2025-08-01'),\n",
    "(2, 101, 75.00, '2025-08-02'),\n",
    "(3, 102, 20.00, '2025-08-01'),\n",
    "(4, 103, 200.00, '2025-08-01'),\n",
    "(5, 103, 300.00, '2025-08-03'),\n",
    "(6, 103, 100.00, '2025-08-05'),\n",
    "(7, 104, 500.00, '2025-08-01');"
   ]
  },
  {
   "cell_type": "code",
   "execution_count": 5,
   "id": "b4581f26-f6c7-4198-9de4-0954964c2608",
   "metadata": {},
   "outputs": [
    {
     "name": "stdout",
     "output_type": "stream",
     "text": [
      " * sqlite:///question_bank.db\n",
      "Done.\n"
     ]
    },
    {
     "data": {
      "text/html": [
       "<table>\n",
       "    <thead>\n",
       "        <tr>\n",
       "            <th>transaction_id</th>\n",
       "            <th>user_id</th>\n",
       "            <th>transaction_amount</th>\n",
       "            <th>transaction_date</th>\n",
       "        </tr>\n",
       "    </thead>\n",
       "    <tbody>\n",
       "        <tr>\n",
       "            <td>1</td>\n",
       "            <td>101</td>\n",
       "            <td>50</td>\n",
       "            <td>2025-08-01</td>\n",
       "        </tr>\n",
       "        <tr>\n",
       "            <td>2</td>\n",
       "            <td>101</td>\n",
       "            <td>75</td>\n",
       "            <td>2025-08-02</td>\n",
       "        </tr>\n",
       "        <tr>\n",
       "            <td>3</td>\n",
       "            <td>102</td>\n",
       "            <td>20</td>\n",
       "            <td>2025-08-01</td>\n",
       "        </tr>\n",
       "        <tr>\n",
       "            <td>4</td>\n",
       "            <td>103</td>\n",
       "            <td>200</td>\n",
       "            <td>2025-08-01</td>\n",
       "        </tr>\n",
       "        <tr>\n",
       "            <td>5</td>\n",
       "            <td>103</td>\n",
       "            <td>300</td>\n",
       "            <td>2025-08-03</td>\n",
       "        </tr>\n",
       "        <tr>\n",
       "            <td>6</td>\n",
       "            <td>103</td>\n",
       "            <td>100</td>\n",
       "            <td>2025-08-05</td>\n",
       "        </tr>\n",
       "        <tr>\n",
       "            <td>7</td>\n",
       "            <td>104</td>\n",
       "            <td>500</td>\n",
       "            <td>2025-08-01</td>\n",
       "        </tr>\n",
       "    </tbody>\n",
       "</table>"
      ],
      "text/plain": [
       "[(1, 101, 50, '2025-08-01'),\n",
       " (2, 101, 75, '2025-08-02'),\n",
       " (3, 102, 20, '2025-08-01'),\n",
       " (4, 103, 200, '2025-08-01'),\n",
       " (5, 103, 300, '2025-08-03'),\n",
       " (6, 103, 100, '2025-08-05'),\n",
       " (7, 104, 500, '2025-08-01')]"
      ]
     },
     "execution_count": 5,
     "metadata": {},
     "output_type": "execute_result"
    }
   ],
   "source": [
    "%%sql\n",
    "select * from transactions"
   ]
  },
  {
   "cell_type": "markdown",
   "id": "e2c6ac41-db3a-4519-894d-fa4f7cf88474",
   "metadata": {},
   "source": [
    "\n",
    "* Summarize the total and average transaction amounts per user, \n",
    "* but only include users who have made at least 2 transactions."
   ]
  },
  {
   "cell_type": "code",
   "execution_count": 13,
   "id": "1dd3f9f9-c269-423d-83d9-3b9c15d63b79",
   "metadata": {},
   "outputs": [
    {
     "name": "stdout",
     "output_type": "stream",
     "text": [
      " * sqlite:///question_bank.db\n",
      "Done.\n"
     ]
    },
    {
     "data": {
      "text/html": [
       "<table>\n",
       "    <thead>\n",
       "        <tr>\n",
       "            <th>user_id</th>\n",
       "            <th>total_per_user</th>\n",
       "            <th>avg_per_user</th>\n",
       "        </tr>\n",
       "    </thead>\n",
       "    <tbody>\n",
       "        <tr>\n",
       "            <td>101</td>\n",
       "            <td>125</td>\n",
       "            <td>62.5</td>\n",
       "        </tr>\n",
       "        <tr>\n",
       "            <td>103</td>\n",
       "            <td>600</td>\n",
       "            <td>200.0</td>\n",
       "        </tr>\n",
       "    </tbody>\n",
       "</table>"
      ],
      "text/plain": [
       "[(101, 125, 62.5), (103, 600, 200.0)]"
      ]
     },
     "execution_count": 13,
     "metadata": {},
     "output_type": "execute_result"
    }
   ],
   "source": [
    "%%sql\n",
    "\n",
    "select \n",
    "    user_id,\n",
    "    sum(transaction_amount) as total_per_user,\n",
    "    avg(transaction_amount) as avg_per_user\n",
    "from transactions\n",
    "group by user_id\n",
    "having count(*)>=2"
   ]
  },
  {
   "cell_type": "code",
   "execution_count": null,
   "id": "13e849aa-dc2c-4668-933f-643f20dbf43f",
   "metadata": {},
   "outputs": [],
   "source": []
  }
 ],
 "metadata": {
  "kernelspec": {
   "display_name": "Python [conda env:base] *",
   "language": "python",
   "name": "conda-base-py"
  },
  "language_info": {
   "codemirror_mode": {
    "name": "ipython",
    "version": 3
   },
   "file_extension": ".py",
   "mimetype": "text/x-python",
   "name": "python",
   "nbconvert_exporter": "python",
   "pygments_lexer": "ipython3",
   "version": "3.12.7"
  }
 },
 "nbformat": 4,
 "nbformat_minor": 5
}
