{
 "cells": [
  {
   "cell_type": "markdown",
   "id": "7bbab102-c32b-49ce-ae00-0f2c17d8e7ea",
   "metadata": {},
   "source": [
    "### High-Value Customer Identification"
   ]
  },
  {
   "cell_type": "code",
   "execution_count": 8,
   "id": "698fb160-9d02-4ed8-93b1-fd4f557c5c5b",
   "metadata": {},
   "outputs": [
    {
     "name": "stdout",
     "output_type": "stream",
     "text": [
      "The sql extension is already loaded. To reload it, use:\n",
      "  %reload_ext sql\n",
      "Successfully connected to SQL database\n",
      "success\n"
     ]
    }
   ],
   "source": [
    "import pandas as pd\n",
    "import sqlite3\n",
    "import sql\n",
    "sql.style = 'plain'\n",
    "%load_ext sql\n",
    "connection=sqlite3.connect(\"question_bank.db\")\n",
    "print(\"Successfully connected to SQL database\")\n",
    "# Connect to SQLite\n",
    "%sql sqlite:///question_bank.db\n",
    "print(\"success\")"
   ]
  },
  {
   "cell_type": "code",
   "execution_count": 10,
   "id": "af16fe07-478d-42d2-ae9f-b115703b73bc",
   "metadata": {},
   "outputs": [
    {
     "name": "stdout",
     "output_type": "stream",
     "text": [
      " * sqlite:///question_bank.db\n",
      "Done.\n",
      "Done.\n",
      "Done.\n",
      "Done.\n",
      "6 rows affected.\n",
      "2 rows affected.\n"
     ]
    },
    {
     "data": {
      "text/plain": [
       "[]"
      ]
     },
     "execution_count": 10,
     "metadata": {},
     "output_type": "execute_result"
    }
   ],
   "source": [
    "%%sql\n",
    "DROP TABLE IF EXISTS transactions;\n",
    "DROP TABLE IF EXISTS fraud_accounts;\n",
    "\n",
    "CREATE TABLE transactions (\n",
    "    transaction_id INT PRIMARY KEY,\n",
    "    sender_id INT,\n",
    "    receiver_id INT,\n",
    "    amount DECIMAL(10,2),\n",
    "    transaction_date DATE\n",
    ");\n",
    "\n",
    "CREATE TABLE fraud_accounts (\n",
    "    account_id INT PRIMARY KEY\n",
    ");\n",
    "\n",
    "INSERT INTO transactions (transaction_id, sender_id, receiver_id, amount, transaction_date) VALUES\n",
    "(1, 1, 2, 1200, DATE('now', '-10 days')),\n",
    "(2, 2, 3, 6000, DATE('now', '-5 days')),\n",
    "(3, 3, 4, 800,  DATE('now', '-15 days')),\n",
    "(4, 4, 5, 2000, DATE('now', '-40 days')),\n",
    "(5, 5, 6, 7000, DATE('now', '-2 days')),\n",
    "(6, 6, 7, 500,  DATE('now', '-1 days'));\n",
    "\n",
    "\n",
    "INSERT INTO fraud_accounts (account_id) VALUES\n",
    "(3),\n",
    "(7);\n"
   ]
  },
  {
   "cell_type": "code",
   "execution_count": 11,
   "id": "6136b9e8-28ae-45ce-9982-b5a205fbe1f4",
   "metadata": {},
   "outputs": [
    {
     "name": "stdout",
     "output_type": "stream",
     "text": [
      " * sqlite:///question_bank.db\n",
      "Done.\n"
     ]
    },
    {
     "data": {
      "text/html": [
       "<table>\n",
       "    <thead>\n",
       "        <tr>\n",
       "            <th>transaction_id</th>\n",
       "            <th>sender_id</th>\n",
       "            <th>receiver_id</th>\n",
       "            <th>amount</th>\n",
       "            <th>transaction_date</th>\n",
       "        </tr>\n",
       "    </thead>\n",
       "    <tbody>\n",
       "        <tr>\n",
       "            <td>1</td>\n",
       "            <td>1</td>\n",
       "            <td>2</td>\n",
       "            <td>1200</td>\n",
       "            <td>2025-08-17</td>\n",
       "        </tr>\n",
       "        <tr>\n",
       "            <td>2</td>\n",
       "            <td>2</td>\n",
       "            <td>3</td>\n",
       "            <td>6000</td>\n",
       "            <td>2025-08-22</td>\n",
       "        </tr>\n",
       "        <tr>\n",
       "            <td>3</td>\n",
       "            <td>3</td>\n",
       "            <td>4</td>\n",
       "            <td>800</td>\n",
       "            <td>2025-08-12</td>\n",
       "        </tr>\n",
       "        <tr>\n",
       "            <td>4</td>\n",
       "            <td>4</td>\n",
       "            <td>5</td>\n",
       "            <td>2000</td>\n",
       "            <td>2025-07-18</td>\n",
       "        </tr>\n",
       "        <tr>\n",
       "            <td>5</td>\n",
       "            <td>5</td>\n",
       "            <td>6</td>\n",
       "            <td>7000</td>\n",
       "            <td>2025-08-25</td>\n",
       "        </tr>\n",
       "        <tr>\n",
       "            <td>6</td>\n",
       "            <td>6</td>\n",
       "            <td>7</td>\n",
       "            <td>500</td>\n",
       "            <td>2025-08-26</td>\n",
       "        </tr>\n",
       "    </tbody>\n",
       "</table>"
      ],
      "text/plain": [
       "[(1, 1, 2, 1200, '2025-08-17'),\n",
       " (2, 2, 3, 6000, '2025-08-22'),\n",
       " (3, 3, 4, 800, '2025-08-12'),\n",
       " (4, 4, 5, 2000, '2025-07-18'),\n",
       " (5, 5, 6, 7000, '2025-08-25'),\n",
       " (6, 6, 7, 500, '2025-08-26')]"
      ]
     },
     "execution_count": 11,
     "metadata": {},
     "output_type": "execute_result"
    }
   ],
   "source": [
    "%%sql\n",
    "select * from transactions"
   ]
  },
  {
   "cell_type": "code",
   "execution_count": 12,
   "id": "fd68580e-fb41-43e0-8d52-508df00409c4",
   "metadata": {},
   "outputs": [
    {
     "name": "stdout",
     "output_type": "stream",
     "text": [
      " * sqlite:///question_bank.db\n",
      "Done.\n"
     ]
    },
    {
     "data": {
      "text/html": [
       "<table>\n",
       "    <thead>\n",
       "        <tr>\n",
       "            <th>account_id</th>\n",
       "        </tr>\n",
       "    </thead>\n",
       "    <tbody>\n",
       "        <tr>\n",
       "            <td>3</td>\n",
       "        </tr>\n",
       "        <tr>\n",
       "            <td>7</td>\n",
       "        </tr>\n",
       "    </tbody>\n",
       "</table>"
      ],
      "text/plain": [
       "[(3,), (7,)]"
      ]
     },
     "execution_count": 12,
     "metadata": {},
     "output_type": "execute_result"
    }
   ],
   "source": [
    "%%sql\n",
    "select * from fraud_accounts"
   ]
  },
  {
   "cell_type": "markdown",
   "id": "d3b3c4e5-7445-40b5-ba8d-8778cec72eea",
   "metadata": {},
   "source": [
    "* Find all unique users who are considered “High-Value Customers”: \n",
    "* users who either sent payments greater than 1000 or received payments greater than 5000 within the last month, \n",
    "* while excluding fraudulent accounts."
   ]
  },
  {
   "cell_type": "code",
   "execution_count": 37,
   "id": "3a56525a-2a15-489a-aaf0-70b554c614a2",
   "metadata": {},
   "outputs": [
    {
     "name": "stdout",
     "output_type": "stream",
     "text": [
      " * sqlite:///question_bank.db\n",
      "Done.\n"
     ]
    },
    {
     "data": {
      "text/html": [
       "<table>\n",
       "    <thead>\n",
       "        <tr>\n",
       "            <th>transaction_id</th>\n",
       "            <th>sender_id</th>\n",
       "            <th>receiver_id</th>\n",
       "            <th>amount</th>\n",
       "            <th>transaction_date</th>\n",
       "            <th>sender_amt_greater_1000</th>\n",
       "            <th>receiver_amt_greater_5000</th>\n",
       "        </tr>\n",
       "    </thead>\n",
       "    <tbody>\n",
       "        <tr>\n",
       "            <td>1</td>\n",
       "            <td>1</td>\n",
       "            <td>2</td>\n",
       "            <td>1200</td>\n",
       "            <td>2025-08-17</td>\n",
       "            <td>1</td>\n",
       "            <td>0</td>\n",
       "        </tr>\n",
       "        <tr>\n",
       "            <td>2</td>\n",
       "            <td>2</td>\n",
       "            <td>3</td>\n",
       "            <td>6000</td>\n",
       "            <td>2025-08-22</td>\n",
       "            <td>1</td>\n",
       "            <td>1</td>\n",
       "        </tr>\n",
       "        <tr>\n",
       "            <td>3</td>\n",
       "            <td>3</td>\n",
       "            <td>4</td>\n",
       "            <td>800</td>\n",
       "            <td>2025-08-12</td>\n",
       "            <td>0</td>\n",
       "            <td>0</td>\n",
       "        </tr>\n",
       "        <tr>\n",
       "            <td>4</td>\n",
       "            <td>4</td>\n",
       "            <td>5</td>\n",
       "            <td>2000</td>\n",
       "            <td>2025-07-18</td>\n",
       "            <td>1</td>\n",
       "            <td>0</td>\n",
       "        </tr>\n",
       "        <tr>\n",
       "            <td>5</td>\n",
       "            <td>5</td>\n",
       "            <td>6</td>\n",
       "            <td>7000</td>\n",
       "            <td>2025-08-25</td>\n",
       "            <td>1</td>\n",
       "            <td>1</td>\n",
       "        </tr>\n",
       "        <tr>\n",
       "            <td>6</td>\n",
       "            <td>6</td>\n",
       "            <td>7</td>\n",
       "            <td>500</td>\n",
       "            <td>2025-08-26</td>\n",
       "            <td>0</td>\n",
       "            <td>0</td>\n",
       "        </tr>\n",
       "    </tbody>\n",
       "</table>"
      ],
      "text/plain": [
       "[(1, 1, 2, 1200, '2025-08-17', 1, 0),\n",
       " (2, 2, 3, 6000, '2025-08-22', 1, 1),\n",
       " (3, 3, 4, 800, '2025-08-12', 0, 0),\n",
       " (4, 4, 5, 2000, '2025-07-18', 1, 0),\n",
       " (5, 5, 6, 7000, '2025-08-25', 1, 1),\n",
       " (6, 6, 7, 500, '2025-08-26', 0, 0)]"
      ]
     },
     "execution_count": 37,
     "metadata": {},
     "output_type": "execute_result"
    }
   ],
   "source": [
    "%%sql\n",
    "-- sender_id -- amount >1000\n",
    "-- receiver_id -- amount >5000\n",
    "-- 3 and 7 is fraud\n",
    "\n",
    "select *,\n",
    "    case when sender_id then amount>1000 end as sender_amt_greater_1000,\n",
    "    case when receiver_id then amount>5000 end as receiver_amt_greater_5000\n",
    "from transactions"
   ]
  },
  {
   "cell_type": "code",
   "execution_count": 71,
   "id": "64c58f3f-4b55-4d56-8553-b33fc9fcab37",
   "metadata": {},
   "outputs": [
    {
     "name": "stdout",
     "output_type": "stream",
     "text": [
      " * sqlite:///question_bank.db\n",
      "Done.\n"
     ]
    },
    {
     "data": {
      "text/html": [
       "<table>\n",
       "    <thead>\n",
       "        <tr>\n",
       "            <th>sender_id</th>\n",
       "            <th>receiver_id</th>\n",
       "            <th>amount</th>\n",
       "        </tr>\n",
       "    </thead>\n",
       "    <tbody>\n",
       "        <tr>\n",
       "            <td>1</td>\n",
       "            <td>2</td>\n",
       "            <td>1200</td>\n",
       "        </tr>\n",
       "        <tr>\n",
       "            <td>2</td>\n",
       "            <td>3</td>\n",
       "            <td>6000</td>\n",
       "        </tr>\n",
       "        <tr>\n",
       "            <td>4</td>\n",
       "            <td>5</td>\n",
       "            <td>2000</td>\n",
       "        </tr>\n",
       "        <tr>\n",
       "            <td>5</td>\n",
       "            <td>6</td>\n",
       "            <td>7000</td>\n",
       "        </tr>\n",
       "    </tbody>\n",
       "</table>"
      ],
      "text/plain": [
       "[(1, 2, 1200), (2, 3, 6000), (4, 5, 2000), (5, 6, 7000)]"
      ]
     },
     "execution_count": 71,
     "metadata": {},
     "output_type": "execute_result"
    }
   ],
   "source": [
    "%%sql\n",
    "\n",
    "with temp as (\n",
    "    select *,\n",
    "        case when sender_id then amount>1000 end as sender_amt_greater_1000,\n",
    "        case when receiver_id then amount>5000 end as receiver_amt_greater_5000\n",
    "    from transactions   \n",
    ")\n",
    "select sender_id, receiver_id, amount\n",
    "from temp\n",
    "where \n",
    "    sender_amt_greater_1000=1 or receiver_amt_greater_5000=1 and\n",
    "    sender_id NOT in (select account_id from fraud_accounts)"
   ]
  },
  {
   "cell_type": "code",
   "execution_count": 61,
   "id": "4b53f60f-04b2-4373-8e86-22c825040622",
   "metadata": {},
   "outputs": [
    {
     "name": "stdout",
     "output_type": "stream",
     "text": [
      " * sqlite:///question_bank.db\n",
      "Done.\n"
     ]
    },
    {
     "data": {
      "text/html": [
       "<table>\n",
       "    <thead>\n",
       "        <tr>\n",
       "            <th>sender_id</th>\n",
       "            <th>receiver_id</th>\n",
       "            <th>amount</th>\n",
       "        </tr>\n",
       "    </thead>\n",
       "    <tbody>\n",
       "        <tr>\n",
       "            <td>1</td>\n",
       "            <td>2</td>\n",
       "            <td>1200</td>\n",
       "        </tr>\n",
       "        <tr>\n",
       "            <td>4</td>\n",
       "            <td>5</td>\n",
       "            <td>2000</td>\n",
       "        </tr>\n",
       "        <tr>\n",
       "            <td>5</td>\n",
       "            <td>6</td>\n",
       "            <td>7000</td>\n",
       "        </tr>\n",
       "    </tbody>\n",
       "</table>"
      ],
      "text/plain": [
       "[(1, 2, 1200), (4, 5, 2000), (5, 6, 7000)]"
      ]
     },
     "execution_count": 61,
     "metadata": {},
     "output_type": "execute_result"
    }
   ],
   "source": [
    "%%sql\n",
    "\n",
    "with temp as (\n",
    "    select *,\n",
    "        case when sender_id then amount>1000 end as sender_amt_greater_1000,\n",
    "        case when receiver_id then amount>5000 end as receiver_amt_greater_5000\n",
    "    from transactions   \n",
    "),\n",
    "temp2 as (\n",
    "    select sender_id, receiver_id, amount\n",
    "    from temp\n",
    "    where \n",
    "        sender_amt_greater_1000=1 or receiver_amt_greater_5000=1  \n",
    ")\n",
    "select * from temp2\n",
    "where receiver_id!=3 and sender_id!=3"
   ]
  },
  {
   "cell_type": "markdown",
   "id": "7c839ecc-a7e8-42f3-9984-ff1f78186064",
   "metadata": {},
   "source": [
    "* Conditional filtering (amount > 1000 vs amount > 5000)\n",
    "\n",
    "* Date filtering (last 30 days)\n",
    "\n",
    "* Excluding from another table (fraud_accounts)\n",
    "\n",
    "* Combining sender vs receiver (UNION)"
   ]
  },
  {
   "cell_type": "markdown",
   "id": "c61f7ccd-8208-41cb-b22e-221ee825149b",
   "metadata": {},
   "source": [
    "### let's try UNION all"
   ]
  },
  {
   "cell_type": "code",
   "execution_count": 64,
   "id": "9f0a7e70-2126-4eb7-a9bf-f5aa06730759",
   "metadata": {},
   "outputs": [
    {
     "name": "stdout",
     "output_type": "stream",
     "text": [
      " * sqlite:///question_bank.db\n",
      "Done.\n"
     ]
    },
    {
     "data": {
      "text/html": [
       "<table>\n",
       "    <thead>\n",
       "        <tr>\n",
       "            <th>transaction_id</th>\n",
       "            <th>sender_id</th>\n",
       "            <th>receiver_id</th>\n",
       "            <th>amount</th>\n",
       "            <th>transaction_date</th>\n",
       "        </tr>\n",
       "    </thead>\n",
       "    <tbody>\n",
       "        <tr>\n",
       "            <td>1</td>\n",
       "            <td>1</td>\n",
       "            <td>2</td>\n",
       "            <td>1200</td>\n",
       "            <td>2025-08-17</td>\n",
       "        </tr>\n",
       "        <tr>\n",
       "            <td>2</td>\n",
       "            <td>2</td>\n",
       "            <td>3</td>\n",
       "            <td>6000</td>\n",
       "            <td>2025-08-22</td>\n",
       "        </tr>\n",
       "        <tr>\n",
       "            <td>3</td>\n",
       "            <td>3</td>\n",
       "            <td>4</td>\n",
       "            <td>800</td>\n",
       "            <td>2025-08-12</td>\n",
       "        </tr>\n",
       "        <tr>\n",
       "            <td>4</td>\n",
       "            <td>4</td>\n",
       "            <td>5</td>\n",
       "            <td>2000</td>\n",
       "            <td>2025-07-18</td>\n",
       "        </tr>\n",
       "        <tr>\n",
       "            <td>5</td>\n",
       "            <td>5</td>\n",
       "            <td>6</td>\n",
       "            <td>7000</td>\n",
       "            <td>2025-08-25</td>\n",
       "        </tr>\n",
       "        <tr>\n",
       "            <td>6</td>\n",
       "            <td>6</td>\n",
       "            <td>7</td>\n",
       "            <td>500</td>\n",
       "            <td>2025-08-26</td>\n",
       "        </tr>\n",
       "    </tbody>\n",
       "</table>"
      ],
      "text/plain": [
       "[(1, 1, 2, 1200, '2025-08-17'),\n",
       " (2, 2, 3, 6000, '2025-08-22'),\n",
       " (3, 3, 4, 800, '2025-08-12'),\n",
       " (4, 4, 5, 2000, '2025-07-18'),\n",
       " (5, 5, 6, 7000, '2025-08-25'),\n",
       " (6, 6, 7, 500, '2025-08-26')]"
      ]
     },
     "execution_count": 64,
     "metadata": {},
     "output_type": "execute_result"
    }
   ],
   "source": [
    "%%sql\n",
    "select * from transactions"
   ]
  },
  {
   "cell_type": "code",
   "execution_count": 66,
   "id": "c2017c82-75bb-4e4c-8ff0-27ffbda1f7f6",
   "metadata": {},
   "outputs": [
    {
     "name": "stdout",
     "output_type": "stream",
     "text": [
      " * sqlite:///question_bank.db\n",
      "Done.\n"
     ]
    },
    {
     "data": {
      "text/html": [
       "<table>\n",
       "    <thead>\n",
       "        <tr>\n",
       "            <th>sender_id</th>\n",
       "            <th>amount</th>\n",
       "        </tr>\n",
       "    </thead>\n",
       "    <tbody>\n",
       "        <tr>\n",
       "            <td>1</td>\n",
       "            <td>1200</td>\n",
       "        </tr>\n",
       "        <tr>\n",
       "            <td>2</td>\n",
       "            <td>6000</td>\n",
       "        </tr>\n",
       "        <tr>\n",
       "            <td>5</td>\n",
       "            <td>7000</td>\n",
       "        </tr>\n",
       "    </tbody>\n",
       "</table>"
      ],
      "text/plain": [
       "[(1, 1200), (2, 6000), (5, 7000)]"
      ]
     },
     "execution_count": 66,
     "metadata": {},
     "output_type": "execute_result"
    }
   ],
   "source": [
    "%%sql\n",
    "\n",
    "select sender_id,amount\n",
    "from transactions\n",
    "where \n",
    "    amount>1000 and \n",
    "    transaction_date >= DATE('now', '-30 days') and\n",
    "    sender_id not in (select account_id from fraud_accounts)"
   ]
  },
  {
   "cell_type": "code",
   "execution_count": 67,
   "id": "027eee85-0c29-4969-a912-ee64b5256168",
   "metadata": {},
   "outputs": [
    {
     "name": "stdout",
     "output_type": "stream",
     "text": [
      " * sqlite:///question_bank.db\n",
      "Done.\n"
     ]
    },
    {
     "data": {
      "text/html": [
       "<table>\n",
       "    <thead>\n",
       "        <tr>\n",
       "            <th>receiver_id</th>\n",
       "            <th>amount</th>\n",
       "        </tr>\n",
       "    </thead>\n",
       "    <tbody>\n",
       "        <tr>\n",
       "            <td>6</td>\n",
       "            <td>7000</td>\n",
       "        </tr>\n",
       "    </tbody>\n",
       "</table>"
      ],
      "text/plain": [
       "[(6, 7000)]"
      ]
     },
     "execution_count": 67,
     "metadata": {},
     "output_type": "execute_result"
    }
   ],
   "source": [
    "%%sql\n",
    "\n",
    "select receiver_id,amount\n",
    "from transactions\n",
    "where \n",
    "    amount>5000 and\n",
    "    transaction_date >=date('now','-30 days') and \n",
    "    receiver_id not in (select account_id from fraud_accounts)"
   ]
  },
  {
   "cell_type": "code",
   "execution_count": 68,
   "id": "2de0e4b4-fee4-4d00-a615-ad0940b7b4f0",
   "metadata": {},
   "outputs": [
    {
     "name": "stdout",
     "output_type": "stream",
     "text": [
      " * sqlite:///question_bank.db\n",
      "Done.\n"
     ]
    },
    {
     "data": {
      "text/html": [
       "<table>\n",
       "    <thead>\n",
       "        <tr>\n",
       "            <th>sender_id</th>\n",
       "            <th>amount</th>\n",
       "        </tr>\n",
       "    </thead>\n",
       "    <tbody>\n",
       "        <tr>\n",
       "            <td>1</td>\n",
       "            <td>1200</td>\n",
       "        </tr>\n",
       "        <tr>\n",
       "            <td>2</td>\n",
       "            <td>6000</td>\n",
       "        </tr>\n",
       "        <tr>\n",
       "            <td>5</td>\n",
       "            <td>7000</td>\n",
       "        </tr>\n",
       "        <tr>\n",
       "            <td>6</td>\n",
       "            <td>7000</td>\n",
       "        </tr>\n",
       "    </tbody>\n",
       "</table>"
      ],
      "text/plain": [
       "[(1, 1200), (2, 6000), (5, 7000), (6, 7000)]"
      ]
     },
     "execution_count": 68,
     "metadata": {},
     "output_type": "execute_result"
    }
   ],
   "source": [
    "%%sql\n",
    "\n",
    "select sender_id,amount\n",
    "from transactions\n",
    "where \n",
    "    amount>1000 and \n",
    "    transaction_date >= DATE('now', '-30 days') and\n",
    "    sender_id not in (select account_id from fraud_accounts)\n",
    "\n",
    "union \n",
    "\n",
    "select receiver_id,amount\n",
    "from transactions\n",
    "where \n",
    "    amount>5000 and\n",
    "    transaction_date >=date('now','-30 days') and \n",
    "    receiver_id not in (select account_id from fraud_accounts)"
   ]
  },
  {
   "cell_type": "code",
   "execution_count": 69,
   "id": "749f9345-d5aa-4073-9b37-3501a1a647eb",
   "metadata": {},
   "outputs": [
    {
     "name": "stdout",
     "output_type": "stream",
     "text": [
      " * sqlite:///question_bank.db\n",
      "Done.\n"
     ]
    },
    {
     "data": {
      "text/html": [
       "<table>\n",
       "    <thead>\n",
       "        <tr>\n",
       "            <th>sender_id</th>\n",
       "            <th>amount</th>\n",
       "        </tr>\n",
       "    </thead>\n",
       "    <tbody>\n",
       "        <tr>\n",
       "            <td>1</td>\n",
       "            <td>1200</td>\n",
       "        </tr>\n",
       "        <tr>\n",
       "            <td>2</td>\n",
       "            <td>6000</td>\n",
       "        </tr>\n",
       "        <tr>\n",
       "            <td>5</td>\n",
       "            <td>7000</td>\n",
       "        </tr>\n",
       "        <tr>\n",
       "            <td>6</td>\n",
       "            <td>7000</td>\n",
       "        </tr>\n",
       "    </tbody>\n",
       "</table>"
      ],
      "text/plain": [
       "[(1, 1200), (2, 6000), (5, 7000), (6, 7000)]"
      ]
     },
     "execution_count": 69,
     "metadata": {},
     "output_type": "execute_result"
    }
   ],
   "source": [
    "%%sql\n",
    "\n",
    "select distinct sender_id,amount\n",
    "from transactions\n",
    "where \n",
    "    amount>1000 and \n",
    "    transaction_date >= DATE('now', '-30 days') and\n",
    "    sender_id not in (select account_id from fraud_accounts)\n",
    "union \n",
    "\n",
    "select distinct receiver_id,amount\n",
    "from transactions\n",
    "where \n",
    "    amount>5000 and\n",
    "    transaction_date >=date('now','-30 days') and \n",
    "    receiver_id not in (select account_id from fraud_accounts)"
   ]
  },
  {
   "cell_type": "markdown",
   "id": "551e2385-cd4a-468f-92b9-8ba9472db343",
   "metadata": {},
   "source": [
    "* When you want to evaluate two columns at a time, union is used. \n",
    "* Here I wanted to filter out amount for sender_id\n",
    "* And similarly, filter out amount for receiver_id"
   ]
  },
  {
   "cell_type": "code",
   "execution_count": null,
   "id": "5b57fd34-fb5e-4a6d-ae2c-9e3282d97558",
   "metadata": {},
   "outputs": [],
   "source": []
  }
 ],
 "metadata": {
  "kernelspec": {
   "display_name": "Python [conda env:base] *",
   "language": "python",
   "name": "conda-base-py"
  },
  "language_info": {
   "codemirror_mode": {
    "name": "ipython",
    "version": 3
   },
   "file_extension": ".py",
   "mimetype": "text/x-python",
   "name": "python",
   "nbconvert_exporter": "python",
   "pygments_lexer": "ipython3",
   "version": "3.12.7"
  }
 },
 "nbformat": 4,
 "nbformat_minor": 5
}
