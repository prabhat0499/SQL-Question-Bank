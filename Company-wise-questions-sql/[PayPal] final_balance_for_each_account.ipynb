{
 "cells": [
  {
   "cell_type": "markdown",
   "id": "73047e8f-68bf-4bd1-8370-d5a2e7f1e0e6",
   "metadata": {},
   "source": [
    "#### Calculate the final balance for each account after applying all deposits and withdrawals."
   ]
  },
  {
   "cell_type": "code",
   "execution_count": 83,
   "id": "0de0168c-4891-4be0-9c4f-4c13499c2e7e",
   "metadata": {},
   "outputs": [
    {
     "name": "stdout",
     "output_type": "stream",
     "text": [
      "The sql extension is already loaded. To reload it, use:\n",
      "  %reload_ext sql\n",
      "Successfully connected to SQL database\n",
      "success\n"
     ]
    }
   ],
   "source": [
    "import pandas as pd\n",
    "import sqlite3\n",
    "import sql\n",
    "sql.style = 'plain'\n",
    "%load_ext sql\n",
    "connection=sqlite3.connect(\"question_bank.db\")\n",
    "print(\"Successfully connected to SQL database\")\n",
    "# Connect to SQLite\n",
    "%sql sqlite:///question_bank.db\n",
    "print(\"success\")"
   ]
  },
  {
   "cell_type": "markdown",
   "id": "2ae9f513-a7ae-4abf-b7c6-06a6247833ce",
   "metadata": {},
   "source": [
    "| transaction\\_id | account\\_id | transaction\\_type | amount |\n",
    "| --------------- | ----------- | ----------------- | ------ |\n",
    "| 1               | 101         | Deposit           | 500    |\n",
    "| 2               | 101         | Withdrawal        | 200    |\n",
    "| 3               | 102         | Deposit           | 1000   |\n",
    "| 4               | 101         | Deposit           | 100    |\n",
    "| 5               | 102         | Withdrawal        | 300    |\n"
   ]
  },
  {
   "cell_type": "markdown",
   "id": "0d17124f-3d9b-4b16-b3a7-1d8c47d3cd76",
   "metadata": {},
   "source": [
    "* You need to calculate the final balance for each account after applying all deposits and withdrawals."
   ]
  },
  {
   "cell_type": "markdown",
   "id": "8044bd18-abc3-4c97-8bf7-d3ff24ed984a",
   "metadata": {},
   "source": [
    "## Method 1"
   ]
  },
  {
   "cell_type": "code",
   "execution_count": 84,
   "id": "92eea16c-bb0b-499c-8b64-6523ce5d8194",
   "metadata": {},
   "outputs": [
    {
     "name": "stdout",
     "output_type": "stream",
     "text": [
      " * sqlite:///question_bank.db\n",
      "(sqlite3.OperationalError) no such column: account_id\n",
      "[SQL: with temp as (\n",
      "    select\n",
      "        account_id,\n",
      "        case when transaction_type='Deposit' then amount end money_deposited,\n",
      "        case when transaction_type='Withdrawal' then amount end money_withdrawn\n",
      "    from transactions\n",
      "),\n",
      "temp_2 as (\n",
      "    select \n",
      "        account_id,\n",
      "        sum(money_deposited) as md,\n",
      "        sum(money_withdrawed) as mw\n",
      "    from temp\n",
      "    group by account_id \n",
      ")\n",
      "select *,(md-mw) as diff\n",
      "from temp_2]\n",
      "(Background on this error at: https://sqlalche.me/e/20/e3q8)\n"
     ]
    }
   ],
   "source": [
    "%%sql\n",
    "\n",
    "with temp as (\n",
    "    select\n",
    "        account_id,\n",
    "        case when transaction_type='Deposit' then amount end money_deposited,\n",
    "        case when transaction_type='Withdrawal' then amount end money_withdrawn\n",
    "    from transactions\n",
    "),\n",
    "temp_2 as (\n",
    "    select \n",
    "        account_id,\n",
    "        sum(money_deposited) as md,\n",
    "        sum(money_withdrawed) as mw\n",
    "    from temp\n",
    "    group by account_id \n",
    ")\n",
    "select *,(md-mw) as diff\n",
    "from temp_2"
   ]
  },
  {
   "cell_type": "markdown",
   "id": "4bd112a6-fbf4-4914-9cfa-81124a576ef2",
   "metadata": {},
   "source": [
    "## Method 2"
   ]
  },
  {
   "cell_type": "code",
   "execution_count": 85,
   "id": "448ad419-5b89-4d82-a64a-38838c909292",
   "metadata": {},
   "outputs": [
    {
     "name": "stdout",
     "output_type": "stream",
     "text": [
      " * sqlite:///question_bank.db\n",
      "Done.\n"
     ]
    },
    {
     "data": {
      "text/html": [
       "<table>\n",
       "    <thead>\n",
       "        <tr>\n",
       "            <th>transaction_id</th>\n",
       "            <th>sender_id</th>\n",
       "            <th>receiver_id</th>\n",
       "            <th>amount</th>\n",
       "            <th>transaction_date</th>\n",
       "        </tr>\n",
       "    </thead>\n",
       "    <tbody>\n",
       "        <tr>\n",
       "            <td>1</td>\n",
       "            <td>1</td>\n",
       "            <td>2</td>\n",
       "            <td>1200</td>\n",
       "            <td>2025-08-17</td>\n",
       "        </tr>\n",
       "        <tr>\n",
       "            <td>2</td>\n",
       "            <td>2</td>\n",
       "            <td>3</td>\n",
       "            <td>6000</td>\n",
       "            <td>2025-08-22</td>\n",
       "        </tr>\n",
       "        <tr>\n",
       "            <td>3</td>\n",
       "            <td>3</td>\n",
       "            <td>4</td>\n",
       "            <td>800</td>\n",
       "            <td>2025-08-12</td>\n",
       "        </tr>\n",
       "        <tr>\n",
       "            <td>4</td>\n",
       "            <td>4</td>\n",
       "            <td>5</td>\n",
       "            <td>2000</td>\n",
       "            <td>2025-07-18</td>\n",
       "        </tr>\n",
       "        <tr>\n",
       "            <td>5</td>\n",
       "            <td>5</td>\n",
       "            <td>6</td>\n",
       "            <td>7000</td>\n",
       "            <td>2025-08-25</td>\n",
       "        </tr>\n",
       "        <tr>\n",
       "            <td>6</td>\n",
       "            <td>6</td>\n",
       "            <td>7</td>\n",
       "            <td>500</td>\n",
       "            <td>2025-08-26</td>\n",
       "        </tr>\n",
       "    </tbody>\n",
       "</table>"
      ],
      "text/plain": [
       "[(1, 1, 2, 1200, '2025-08-17'),\n",
       " (2, 2, 3, 6000, '2025-08-22'),\n",
       " (3, 3, 4, 800, '2025-08-12'),\n",
       " (4, 4, 5, 2000, '2025-07-18'),\n",
       " (5, 5, 6, 7000, '2025-08-25'),\n",
       " (6, 6, 7, 500, '2025-08-26')]"
      ]
     },
     "execution_count": 85,
     "metadata": {},
     "output_type": "execute_result"
    }
   ],
   "source": [
    "%%sql\n",
    "select * from transactions"
   ]
  },
  {
   "cell_type": "code",
   "execution_count": 86,
   "id": "1b072fc9-9679-4834-b7f1-3d1dac34f625",
   "metadata": {},
   "outputs": [
    {
     "name": "stdout",
     "output_type": "stream",
     "text": [
      " * sqlite:///question_bank.db\n",
      "(sqlite3.OperationalError) no such column: account_id\n",
      "[SQL: select\n",
      "    account_id,\n",
      "    sum(case when transaction_type='Deposit' then amount else 0 end) as dtx,\n",
      "    sum(case when transaction_type='Withdrawal' then amount else 0 end) as wtx,\n",
      "    sum(case when transaction_type='Deposit' then amount else 0 end) - \n",
      "        sum(case when transaction_type='Withdrawal' then amount else 0 end) as diff\n",
      "from transactions\n",
      "group by account_id]\n",
      "(Background on this error at: https://sqlalche.me/e/20/e3q8)\n"
     ]
    }
   ],
   "source": [
    "%%sql\n",
    "\n",
    "select\n",
    "    account_id,\n",
    "    sum(case when transaction_type='Deposit' then amount else 0 end) as dtx,\n",
    "    sum(case when transaction_type='Withdrawal' then amount else 0 end) as wtx,\n",
    "    sum(case when transaction_type='Deposit' then amount else 0 end) - \n",
    "        sum(case when transaction_type='Withdrawal' then amount else 0 end) as diff\n",
    "from transactions\n",
    "group by account_id"
   ]
  },
  {
   "cell_type": "markdown",
   "id": "838aa094-b69b-4903-86d8-fd5c6440d09f",
   "metadata": {},
   "source": [
    "Question 2: Compute the average transaction amount per user.\n",
    "* Rank users based on their average transaction amount (highest first).\n",
    "* Handle ties properly (i.e., if two users have the same average, they should get the same rank)."
   ]
  },
  {
   "cell_type": "code",
   "execution_count": 87,
   "id": "410e50de-39cc-412f-9301-3c33cfdb8340",
   "metadata": {},
   "outputs": [
    {
     "name": "stdout",
     "output_type": "stream",
     "text": [
      " * sqlite:///question_bank.db\n",
      "Done.\n"
     ]
    },
    {
     "data": {
      "text/html": [
       "<table>\n",
       "    <thead>\n",
       "        <tr>\n",
       "            <th>transaction_id</th>\n",
       "            <th>sender_id</th>\n",
       "            <th>receiver_id</th>\n",
       "            <th>amount</th>\n",
       "            <th>transaction_date</th>\n",
       "        </tr>\n",
       "    </thead>\n",
       "    <tbody>\n",
       "        <tr>\n",
       "            <td>1</td>\n",
       "            <td>1</td>\n",
       "            <td>2</td>\n",
       "            <td>1200</td>\n",
       "            <td>2025-08-17</td>\n",
       "        </tr>\n",
       "        <tr>\n",
       "            <td>2</td>\n",
       "            <td>2</td>\n",
       "            <td>3</td>\n",
       "            <td>6000</td>\n",
       "            <td>2025-08-22</td>\n",
       "        </tr>\n",
       "        <tr>\n",
       "            <td>3</td>\n",
       "            <td>3</td>\n",
       "            <td>4</td>\n",
       "            <td>800</td>\n",
       "            <td>2025-08-12</td>\n",
       "        </tr>\n",
       "        <tr>\n",
       "            <td>4</td>\n",
       "            <td>4</td>\n",
       "            <td>5</td>\n",
       "            <td>2000</td>\n",
       "            <td>2025-07-18</td>\n",
       "        </tr>\n",
       "        <tr>\n",
       "            <td>5</td>\n",
       "            <td>5</td>\n",
       "            <td>6</td>\n",
       "            <td>7000</td>\n",
       "            <td>2025-08-25</td>\n",
       "        </tr>\n",
       "        <tr>\n",
       "            <td>6</td>\n",
       "            <td>6</td>\n",
       "            <td>7</td>\n",
       "            <td>500</td>\n",
       "            <td>2025-08-26</td>\n",
       "        </tr>\n",
       "    </tbody>\n",
       "</table>"
      ],
      "text/plain": [
       "[(1, 1, 2, 1200, '2025-08-17'),\n",
       " (2, 2, 3, 6000, '2025-08-22'),\n",
       " (3, 3, 4, 800, '2025-08-12'),\n",
       " (4, 4, 5, 2000, '2025-07-18'),\n",
       " (5, 5, 6, 7000, '2025-08-25'),\n",
       " (6, 6, 7, 500, '2025-08-26')]"
      ]
     },
     "execution_count": 87,
     "metadata": {},
     "output_type": "execute_result"
    }
   ],
   "source": [
    "%%sql\n",
    "select * from transactions"
   ]
  },
  {
   "cell_type": "code",
   "execution_count": 88,
   "id": "e2fbef40-8688-4fc1-84cd-5977860a3ba8",
   "metadata": {},
   "outputs": [
    {
     "name": "stdout",
     "output_type": "stream",
     "text": [
      " * sqlite:///question_bank.db\n",
      "(sqlite3.OperationalError) no such column: account_id\n",
      "[SQL: with temp as(\n",
      "    select \n",
      "        account_id,\n",
      "        round(avg(amount),2) as average\n",
      "    from transactions\n",
      "    group by account_id\n",
      ")\n",
      "select \n",
      "    account_id,\n",
      "    average,\n",
      "    dense_rank() over (order by average desc) as rk\n",
      "from temp]\n",
      "(Background on this error at: https://sqlalche.me/e/20/e3q8)\n"
     ]
    }
   ],
   "source": [
    "%%sql\n",
    "\n",
    "with temp as(\n",
    "    select \n",
    "        account_id,\n",
    "        round(avg(amount),2) as average\n",
    "    from transactions\n",
    "    group by account_id\n",
    ")\n",
    "select \n",
    "    account_id,\n",
    "    average,\n",
    "    dense_rank() over (order by average desc) as rk\n",
    "from temp"
   ]
  },
  {
   "cell_type": "markdown",
   "id": "58f3a343-658b-4fa0-8a26-707e93b24c4d",
   "metadata": {},
   "source": [
    "| Clause / Function                                             | When it Runs          | What it Does                                   | Example                              | Key Rule                                             |\n",
    "| ------------------------------------------------------------- | --------------------- | ---------------------------------------------- | ------------------------------------ | ---------------------------------------------------- |\n",
    "| **WHERE**                                                     | Before grouping       | Filters individual rows                        | `WHERE salary > 50000`               | Cannot use aggregates here                           |\n",
    "| **GROUP BY**                                                  | After WHERE           | Groups rows by column(s)                       | `GROUP BY department`                | Every column in SELECT must be grouped or aggregated |\n",
    "| **Aggregate Functions** (`SUM`, `AVG`, `COUNT`, `MIN`, `MAX`) | During grouping       | Collapse rows into single values               | `AVG(salary)`                        | Allowed only with grouped columns                    |\n",
    "| **HAVING**                                                    | After GROUP BY        | Filters groups                                 | `HAVING AVG(salary) > 60000`         | Use for aggregate-based conditions                   |\n",
    "| **Window Functions** (`SUM() OVER`, `RANK() OVER`)            | After GROUP BY/HAVING | Add extra calculations without collapsing rows | `RANK() OVER (ORDER BY salary DESC)` | Keep row-level detail, don’t require GROUP BY        |\n"
   ]
  },
  {
   "cell_type": "markdown",
   "id": "b2245213-4c4c-4a36-b172-39e7c0c22bba",
   "metadata": {},
   "source": [
    "## ----------------"
   ]
  },
  {
   "cell_type": "markdown",
   "id": "8b86f548-4462-4fb9-8c4f-7124423597b3",
   "metadata": {},
   "source": [
    "| ✅ Allowed in SELECT                         | ❌ Not Allowed in SELECT                       |\n",
    "| ------------------------------------------- | --------------------------------------------- |\n",
    "| - Columns listed in `GROUP BY`              | - Raw columns not in `GROUP BY` or aggregates |\n",
    "| - Aggregates: `SUM`, `AVG`, `COUNT`, `MIN`… | - `SELECT *` with aggregation                 |\n"
   ]
  },
  {
   "cell_type": "code",
   "execution_count": 89,
   "id": "666d944f-2735-45d9-b4af-33b3b1e5e0c5",
   "metadata": {},
   "outputs": [
    {
     "name": "stdout",
     "output_type": "stream",
     "text": [
      " * sqlite:///question_bank.db\n",
      "(sqlite3.OperationalError) no such column: account_id\n",
      "[SQL: select\n",
      "    account_id,\n",
      "    sum(case \n",
      "            when transaction_type='Deposit' then amount \n",
      "            when transaction_type='Withdrawal' then - amount\n",
      "            else 0\n",
      "    end) as dff\n",
      "from transactions\n",
      "group by account_id]\n",
      "(Background on this error at: https://sqlalche.me/e/20/e3q8)\n"
     ]
    }
   ],
   "source": [
    "%%sql\n",
    "\n",
    "select\n",
    "    account_id,\n",
    "    sum(case \n",
    "            when transaction_type='Deposit' then amount \n",
    "            when transaction_type='Withdrawal' then - amount\n",
    "            else 0\n",
    "    end) as dff\n",
    "from transactions\n",
    "group by account_id"
   ]
  },
  {
   "cell_type": "code",
   "execution_count": null,
   "id": "6469debd-dc9a-4846-88a3-31085f397df9",
   "metadata": {},
   "outputs": [],
   "source": []
  }
 ],
 "metadata": {
  "kernelspec": {
   "display_name": "Python [conda env:base] *",
   "language": "python",
   "name": "conda-base-py"
  },
  "language_info": {
   "codemirror_mode": {
    "name": "ipython",
    "version": 3
   },
   "file_extension": ".py",
   "mimetype": "text/x-python",
   "name": "python",
   "nbconvert_exporter": "python",
   "pygments_lexer": "ipython3",
   "version": "3.12.7"
  }
 },
 "nbformat": 4,
 "nbformat_minor": 5
}
