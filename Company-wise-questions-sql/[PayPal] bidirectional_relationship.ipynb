{
 "cells": [
  {
   "cell_type": "markdown",
   "id": "82dbc4db-8eab-4a10-8867-bd409a8e3cde",
   "metadata": {},
   "source": [
    "### Bidirection Relationship"
   ]
  },
  {
   "cell_type": "code",
   "execution_count": 1,
   "id": "956c75c6-4c8e-4f10-b179-60bdaa395f02",
   "metadata": {},
   "outputs": [
    {
     "name": "stdout",
     "output_type": "stream",
     "text": [
      "Successfully connected to SQL database\n",
      "success\n"
     ]
    }
   ],
   "source": [
    "import pandas as pd\n",
    "import sqlite3\n",
    "import sql\n",
    "sql.style = 'plain'\n",
    "%load_ext sql\n",
    "connection=sqlite3.connect(\"question_bank.db\")\n",
    "print(\"Successfully connected to SQL database\")\n",
    "# Connect to SQLite\n",
    "%sql sqlite:///question_bank.db\n",
    "print(\"success\")"
   ]
  },
  {
   "cell_type": "code",
   "execution_count": 3,
   "id": "b8ba9b2d-1c2c-45ec-b187-571c8afaae7a",
   "metadata": {},
   "outputs": [
    {
     "name": "stdout",
     "output_type": "stream",
     "text": [
      " * sqlite:///question_bank.db\n",
      "Done.\n",
      "Done.\n",
      "5 rows affected.\n"
     ]
    },
    {
     "data": {
      "text/plain": [
       "[]"
      ]
     },
     "execution_count": 3,
     "metadata": {},
     "output_type": "execute_result"
    }
   ],
   "source": [
    "%%sql\n",
    "DROP TABLE transactions;\n",
    "CREATE TABLE transactions (\n",
    "    sender_id INT,\n",
    "    receiver_id INT,\n",
    "    amount INT\n",
    ");\n",
    "\n",
    "-- Step 2: Insert sample data\n",
    "INSERT INTO transactions (sender_id, receiver_id, amount) VALUES\n",
    "(1, 2, 100),\n",
    "(2, 1, 150),\n",
    "(1, 3, 200),\n",
    "(3, 1, 250),\n",
    "(2, 4, 300);\n"
   ]
  },
  {
   "cell_type": "code",
   "execution_count": 4,
   "id": "9267dec5-4589-41bd-8ce2-c73421c764d0",
   "metadata": {},
   "outputs": [
    {
     "name": "stdout",
     "output_type": "stream",
     "text": [
      " * sqlite:///question_bank.db\n",
      "Done.\n"
     ]
    },
    {
     "data": {
      "text/html": [
       "<table>\n",
       "    <thead>\n",
       "        <tr>\n",
       "            <th>sender_id</th>\n",
       "            <th>receiver_id</th>\n",
       "            <th>amount</th>\n",
       "        </tr>\n",
       "    </thead>\n",
       "    <tbody>\n",
       "        <tr>\n",
       "            <td>1</td>\n",
       "            <td>2</td>\n",
       "            <td>100</td>\n",
       "        </tr>\n",
       "        <tr>\n",
       "            <td>2</td>\n",
       "            <td>1</td>\n",
       "            <td>150</td>\n",
       "        </tr>\n",
       "        <tr>\n",
       "            <td>1</td>\n",
       "            <td>3</td>\n",
       "            <td>200</td>\n",
       "        </tr>\n",
       "        <tr>\n",
       "            <td>3</td>\n",
       "            <td>1</td>\n",
       "            <td>250</td>\n",
       "        </tr>\n",
       "        <tr>\n",
       "            <td>2</td>\n",
       "            <td>4</td>\n",
       "            <td>300</td>\n",
       "        </tr>\n",
       "    </tbody>\n",
       "</table>"
      ],
      "text/plain": [
       "[(1, 2, 100), (2, 1, 150), (1, 3, 200), (3, 1, 250), (2, 4, 300)]"
      ]
     },
     "execution_count": 4,
     "metadata": {},
     "output_type": "execute_result"
    }
   ],
   "source": [
    "%%sql\n",
    "select * from transactions"
   ]
  },
  {
   "cell_type": "markdown",
   "id": "e4292dcf-cc67-4bca-b5f4-ccb430e18963",
   "metadata": {},
   "source": [
    "- You need to find unique pairs of users who have both sent money to each other (bidirectional).\n",
    "\n",
    "* Example: (1,2) is valid because 1 → 2 and 2 → 1 exist.\n",
    "\n",
    "* Example: (1,3) is valid for the same reason.\n",
    "\n",
    "* Example: (2,4) is not valid (only one direction)."
   ]
  },
  {
   "cell_type": "code",
   "execution_count": 13,
   "id": "38201f93-96f5-4f4c-a3d1-1c8ac7ade6e3",
   "metadata": {},
   "outputs": [
    {
     "name": "stdout",
     "output_type": "stream",
     "text": [
      " * sqlite:///question_bank.db\n",
      "Done.\n"
     ]
    },
    {
     "data": {
      "text/html": [
       "<table>\n",
       "    <thead>\n",
       "        <tr>\n",
       "            <th>sender_id</th>\n",
       "            <th>receiver_id</th>\n",
       "            <th>amount</th>\n",
       "        </tr>\n",
       "    </thead>\n",
       "    <tbody>\n",
       "    </tbody>\n",
       "</table>"
      ],
      "text/plain": [
       "[]"
      ]
     },
     "execution_count": 13,
     "metadata": {},
     "output_type": "execute_result"
    }
   ],
   "source": [
    "%%sql\n",
    "\n",
    "select *\n",
    "from transactions\n",
    "where receiver_id IN (sender_id)"
   ]
  },
  {
   "cell_type": "code",
   "execution_count": 18,
   "id": "be57fdff-0d45-4427-bfc8-1c660832fa29",
   "metadata": {},
   "outputs": [
    {
     "name": "stdout",
     "output_type": "stream",
     "text": [
      " * sqlite:///question_bank.db\n",
      "Done.\n"
     ]
    },
    {
     "data": {
      "text/html": [
       "<table>\n",
       "    <thead>\n",
       "        <tr>\n",
       "            <th>sender_id</th>\n",
       "            <th>receiver_id</th>\n",
       "            <th>amount</th>\n",
       "            <th>sender_id_1</th>\n",
       "            <th>receiver_id_1</th>\n",
       "            <th>amount_1</th>\n",
       "        </tr>\n",
       "    </thead>\n",
       "    <tbody>\n",
       "        <tr>\n",
       "            <td>1</td>\n",
       "            <td>2</td>\n",
       "            <td>100</td>\n",
       "            <td>2</td>\n",
       "            <td>1</td>\n",
       "            <td>150</td>\n",
       "        </tr>\n",
       "        <tr>\n",
       "            <td>2</td>\n",
       "            <td>1</td>\n",
       "            <td>150</td>\n",
       "            <td>1</td>\n",
       "            <td>2</td>\n",
       "            <td>100</td>\n",
       "        </tr>\n",
       "        <tr>\n",
       "            <td>1</td>\n",
       "            <td>3</td>\n",
       "            <td>200</td>\n",
       "            <td>3</td>\n",
       "            <td>1</td>\n",
       "            <td>250</td>\n",
       "        </tr>\n",
       "        <tr>\n",
       "            <td>3</td>\n",
       "            <td>1</td>\n",
       "            <td>250</td>\n",
       "            <td>1</td>\n",
       "            <td>3</td>\n",
       "            <td>200</td>\n",
       "        </tr>\n",
       "    </tbody>\n",
       "</table>"
      ],
      "text/plain": [
       "[(1, 2, 100, 2, 1, 150),\n",
       " (2, 1, 150, 1, 2, 100),\n",
       " (1, 3, 200, 3, 1, 250),\n",
       " (3, 1, 250, 1, 3, 200)]"
      ]
     },
     "execution_count": 18,
     "metadata": {},
     "output_type": "execute_result"
    }
   ],
   "source": [
    "%%sql\n",
    "\n",
    "SELECT *\n",
    "FROM transactions m1\n",
    "JOIN transactions m2\n",
    "  ON m1.sender_id = m2.receiver_id AND m1.receiver_id = m2.sender_id\n"
   ]
  },
  {
   "cell_type": "code",
   "execution_count": null,
   "id": "be490169-8e42-47d4-b0f6-13d3f34f38eb",
   "metadata": {},
   "outputs": [],
   "source": []
  }
 ],
 "metadata": {
  "kernelspec": {
   "display_name": "Python [conda env:base] *",
   "language": "python",
   "name": "conda-base-py"
  },
  "language_info": {
   "codemirror_mode": {
    "name": "ipython",
    "version": 3
   },
   "file_extension": ".py",
   "mimetype": "text/x-python",
   "name": "python",
   "nbconvert_exporter": "python",
   "pygments_lexer": "ipython3",
   "version": "3.12.7"
  }
 },
 "nbformat": 4,
 "nbformat_minor": 5
}
