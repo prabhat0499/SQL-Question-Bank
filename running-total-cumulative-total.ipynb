{
 "cells": [
  {
   "cell_type": "markdown",
   "id": "fcf9aec0-b95a-4569-a4a5-124ba4817724",
   "metadata": {},
   "source": [
    "## Running Total/Cumulative Total"
   ]
  },
  {
   "cell_type": "code",
   "execution_count": 1,
   "id": "ffa2e610-0b9a-4bd2-bd39-5d0b6b4d43a9",
   "metadata": {},
   "outputs": [
    {
     "name": "stdout",
     "output_type": "stream",
     "text": [
      "Successfully connected to SQL database\n",
      "success\n"
     ]
    }
   ],
   "source": [
    "import pandas as pd\n",
    "import sqlite3\n",
    "import sql\n",
    "sql.style = 'plain'\n",
    "%load_ext sql\n",
    "connection=sqlite3.connect(\"question_bank.db\")\n",
    "print(\"Successfully connected to SQL database\")\n",
    "# Connect to SQLite\n",
    "%sql sqlite:///question_bank.db\n",
    "print(\"success\")"
   ]
  },
  {
   "cell_type": "code",
   "execution_count": null,
   "id": "2331026f-b90e-44f3-baf7-410732e38795",
   "metadata": {},
   "outputs": [],
   "source": [
    "%%sql\n",
    "-- Create the Payments table\n",
    "CREATE TABLE Payments (\n",
    "    employee_id INTEGER,\n",
    "    pay_date DATE,\n",
    "    amount INTEGER\n",
    ");\n",
    "\n",
    "-- Insert sample data\n",
    "INSERT INTO Payments (employee_id, pay_date, amount) VALUES\n",
    "(1, '2024-01-01', 3000),\n",
    "(1, '2024-02-01', 3200),\n",
    "(1, '2024-03-01', 3100),\n",
    "(2, '2024-01-15', 4000),\n",
    "(2, '2024-02-15', 4100),\n",
    "(3, '2024-01-10', 3500);"
   ]
  },
  {
   "cell_type": "code",
   "execution_count": null,
   "id": "7b501510-4db9-46a9-affe-f59eebad40c9",
   "metadata": {},
   "outputs": [],
   "source": [
    "%%sql\n",
    "SELECT * FROM Payments"
   ]
  },
  {
   "cell_type": "code",
   "execution_count": null,
   "id": "a783ec1c-33ff-42e8-9dca-fe60914d2079",
   "metadata": {},
   "outputs": [],
   "source": [
    "%%sql\n",
    "\n",
    "-- calculate running total (cumulative sum) of salary payments for each employee over time \n",
    "\n",
    "-- For each employee - GROUP BY emp_id\n",
    "-- Cumulative sum = 30+32= 62+31=93+ and so on...\n",
    "-- We use PARTITION BY instead of GROUP BY - to not lose information\n",
    "\n",
    "SELECT employee_id,pay_date,amount,\n",
    "SUM (amount) OVER (\n",
    "    PARTITION BY employee_id                     -- Do this per employee (just like GROUP BY)\n",
    "    ORDER BY pay_date                            -- In chronological Order\n",
    "    ROWS BETWEEN UNBOUNDED PRECEDING             -- Start from the first row\n",
    "        AND CURRENT ROW) AS Running_Total        -- Up to the current row\n",
    "\n",
    "FROM Payments"
   ]
  },
  {
   "cell_type": "code",
   "execution_count": null,
   "id": "cb99878a-7990-425b-bdf4-ce000ca5f3de",
   "metadata": {},
   "outputs": [],
   "source": [
    "%%sql\n",
    "WITH Pay AS (SELECT employee_id,pay_date,amount,\n",
    "            SUM (amount) OVER (\n",
    "                PARTITION BY employee_id                     \n",
    "                ORDER BY pay_date                            \n",
    "                ROWS BETWEEN UNBOUNDED PRECEDING             \n",
    "                    AND CURRENT ROW) AS Running_Total\n",
    "        FROM Payments\n",
    ") \n",
    "SELECT *\n",
    "FROM Pay"
   ]
  }
 ],
 "metadata": {
  "kernelspec": {
   "display_name": "Python [conda env:base] *",
   "language": "python",
   "name": "conda-base-py"
  },
  "language_info": {
   "codemirror_mode": {
    "name": "ipython",
    "version": 3
   },
   "file_extension": ".py",
   "mimetype": "text/x-python",
   "name": "python",
   "nbconvert_exporter": "python",
   "pygments_lexer": "ipython3",
   "version": "3.12.7"
  }
 },
 "nbformat": 4,
 "nbformat_minor": 5
}
